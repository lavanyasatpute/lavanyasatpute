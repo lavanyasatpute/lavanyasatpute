{
  "nbformat": 4,
  "nbformat_minor": 0,
  "metadata": {
    "colab": {
      "provenance": [],
      "authorship_tag": "ABX9TyMqsSfnm73irP8IdivEXJfg",
      "include_colab_link": true
    },
    "kernelspec": {
      "name": "python3",
      "display_name": "Python 3"
    },
    "language_info": {
      "name": "python"
    }
  },
  "cells": [
    {
      "cell_type": "markdown",
      "metadata": {
        "id": "view-in-github",
        "colab_type": "text"
      },
      "source": [
        "<a href=\"https://colab.research.google.com/github/lavanyasatpute/lavanyasatpute/blob/main/List_Data_Type_MeraList.ipynb\" target=\"_parent\"><img src=\"https://colab.research.google.com/assets/colab-badge.svg\" alt=\"Open In Colab\"/></a>"
      ]
    },
    {
      "cell_type": "code",
      "source": [
        "!pip install ctype"
      ],
      "metadata": {
        "colab": {
          "base_uri": "https://localhost:8080/"
        },
        "id": "GWDabOwtVy3X",
        "outputId": "4d22c0d0-9b33-4cf7-a3af-46b5e7e29a92"
      },
      "execution_count": null,
      "outputs": [
        {
          "output_type": "stream",
          "name": "stdout",
          "text": [
            "Collecting ctype\n",
            "  Downloading ctype-7.4.2-py3-none-any.whl (15 kB)\n",
            "Installing collected packages: ctype\n",
            "Successfully installed ctype-7.4.2\n"
          ]
        }
      ]
    },
    {
      "cell_type": "code",
      "source": [
        "import ctypes"
      ],
      "metadata": {
        "id": "_1cWueCqV9y1"
      },
      "execution_count": null,
      "outputs": []
    },
    {
      "cell_type": "code",
      "execution_count": null,
      "metadata": {
        "id": "QvGUBkFyRS3G"
      },
      "outputs": [],
      "source": [
        "class MeraList:\n",
        "\n",
        "  def __init__(self):\n",
        "    self.num = 1\n",
        "    self.n = 0\n",
        "    self.A = self.__create_array(self.num)\n",
        "\n",
        "  def __create_array(self,capacity):\n",
        "    return (capacity*ctypes.py_object)()\n",
        "\n",
        "  def __len__(self):\n",
        "    return self.n\n",
        "\n",
        "  def append(self,ele):\n",
        "    if self.num == self.n:\n",
        "      self.__resize(self.num+4)\n",
        "\n",
        "    self.A[self.n] = ele\n",
        "    self.n = self.n + 1\n",
        "\n",
        "  def __resize(self,new_capacity):\n",
        "    a = (new_capacity*ctypes.py_object)()\n",
        "    for i in range(self.n):\n",
        "      a[i] = self.A[i]\n",
        "    self.A = a\n",
        "    self.num = new_capacity\n",
        "\n",
        "\n",
        "\n",
        "  def __remove_ele(self):\n",
        "    a = (self.num*ctypes.py_object)()\n",
        "    for i in range(self.n-1):\n",
        "      a[i] = self.A[i]\n",
        "    self.A = a\n",
        "    self.num -=1\n",
        "    self.n -=1\n",
        "\n",
        "  def __str__(self):\n",
        "    result = ''\n",
        "    for i in range(self.n):\n",
        "      if type(self.A[i]) == str:\n",
        "        result = result + \"'\"+str(self.A[i])+\"'\" + \",\"\n",
        "      else:\n",
        "        result = result + str(self.A[i]) + \",\"\n",
        "    return \"[\"+result[:-1]+\"]\"\n",
        "\n",
        "  def __getitem__(self,index):\n",
        "    if 0<= index < self.n:\n",
        "        return self.A[index]\n",
        "    else:\n",
        "      return \"\\033[91m IndexError --- Index out of range \\033[0m\"\n",
        "\n",
        "  def pop(self):\n",
        "    if (self.n) == 0:\n",
        "      print(\"Empty List\")\n",
        "    else:\n",
        "      return self.__remove_ele()\n",
        "\n",
        "  def clear(self):\n",
        "    self.num = 1\n",
        "    self.n = 0\n",
        "\n",
        "  def find(self,ele):\n",
        "    for i in range(self.n):\n",
        "      if self.A[i] == ele:\n",
        "        return i\n",
        "    return f\"{ele} element is not present in List\"\n",
        "\n",
        "  def insert(self,index,element):\n",
        "    if self.num == self.n:\n",
        "      self.__resize(self.num+1)\n",
        "      self.num = self.num + 1\n",
        "\n",
        "    for i in range(self.n,index,-1):\n",
        "      self.A[i] = self.A[i-1]\n",
        "    self.A[index] = element\n",
        "    self.n = self.n + 1\n",
        "\n",
        "  def __delitem__(self,index):\n",
        "    for i in (self.n-1,index-1,-1):\n",
        "      self.A[i] = self.A[i+1]\n",
        "    self.n -= 1\n"
      ]
    },
    {
      "cell_type": "code",
      "source": [
        "a = MeraList()"
      ],
      "metadata": {
        "id": "XpfhLStaSa5g"
      },
      "execution_count": null,
      "outputs": []
    },
    {
      "cell_type": "code",
      "source": [
        "a.n"
      ],
      "metadata": {
        "colab": {
          "base_uri": "https://localhost:8080/"
        },
        "id": "g-BdipBsJ-Ot",
        "outputId": "6d2aa1bc-5f7f-489a-cc51-f13666297f9d"
      },
      "execution_count": null,
      "outputs": [
        {
          "output_type": "execute_result",
          "data": {
            "text/plain": [
              "0"
            ]
          },
          "metadata": {},
          "execution_count": 58
        }
      ]
    },
    {
      "cell_type": "code",
      "source": [
        "a.append('Rajuji')\n",
        "a.append('Lavanya')\n"
      ],
      "metadata": {
        "id": "mUhyDTruW-Vx"
      },
      "execution_count": null,
      "outputs": []
    },
    {
      "cell_type": "code",
      "source": [
        "a.insert(2,8)"
      ],
      "metadata": {
        "id": "yu1eflbXm3mw"
      },
      "execution_count": null,
      "outputs": []
    },
    {
      "cell_type": "code",
      "source": [
        "print(a)"
      ],
      "metadata": {
        "colab": {
          "base_uri": "https://localhost:8080/"
        },
        "id": "ixyja_EkBSN1",
        "outputId": "e9bbbdf6-b5fc-419d-bf17-c4cbf827a2db"
      },
      "execution_count": null,
      "outputs": [
        {
          "output_type": "stream",
          "name": "stdout",
          "text": [
            "['Rajuji','Lavanya',8]\n"
          ]
        }
      ]
    },
    {
      "cell_type": "code",
      "source": [
        "del a[1]"
      ],
      "metadata": {
        "colab": {
          "base_uri": "https://localhost:8080/",
          "height": 253
        },
        "id": "GmV3d5bqCLI4",
        "outputId": "683c3e05-00c6-41e0-a1fa-bafe3de02617"
      },
      "execution_count": null,
      "outputs": [
        {
          "output_type": "error",
          "ename": "ValueError",
          "evalue": "PyObject is NULL",
          "traceback": [
            "\u001b[0;31m---------------------------------------------------------------------------\u001b[0m",
            "\u001b[0;31mValueError\u001b[0m                                Traceback (most recent call last)",
            "\u001b[0;32m<ipython-input-62-d982d7dc2a95>\u001b[0m in \u001b[0;36m<cell line: 1>\u001b[0;34m()\u001b[0m\n\u001b[0;32m----> 1\u001b[0;31m \u001b[0;32mdel\u001b[0m \u001b[0ma\u001b[0m\u001b[0;34m[\u001b[0m\u001b[0;36m1\u001b[0m\u001b[0;34m]\u001b[0m\u001b[0;34m\u001b[0m\u001b[0;34m\u001b[0m\u001b[0m\n\u001b[0m",
            "\u001b[0;32m<ipython-input-56-49c74cd38864>\u001b[0m in \u001b[0;36m__delitem__\u001b[0;34m(self, index)\u001b[0m\n\u001b[1;32m     79\u001b[0m   \u001b[0;32mdef\u001b[0m \u001b[0m__delitem__\u001b[0m\u001b[0;34m(\u001b[0m\u001b[0mself\u001b[0m\u001b[0;34m,\u001b[0m\u001b[0mindex\u001b[0m\u001b[0;34m)\u001b[0m\u001b[0;34m:\u001b[0m\u001b[0;34m\u001b[0m\u001b[0;34m\u001b[0m\u001b[0m\n\u001b[1;32m     80\u001b[0m     \u001b[0;32mfor\u001b[0m \u001b[0mi\u001b[0m \u001b[0;32min\u001b[0m \u001b[0;34m(\u001b[0m\u001b[0mself\u001b[0m\u001b[0;34m.\u001b[0m\u001b[0mn\u001b[0m\u001b[0;34m-\u001b[0m\u001b[0;36m1\u001b[0m\u001b[0;34m,\u001b[0m\u001b[0mindex\u001b[0m\u001b[0;34m-\u001b[0m\u001b[0;36m1\u001b[0m\u001b[0;34m,\u001b[0m\u001b[0;34m-\u001b[0m\u001b[0;36m1\u001b[0m\u001b[0;34m)\u001b[0m\u001b[0;34m:\u001b[0m\u001b[0;34m\u001b[0m\u001b[0;34m\u001b[0m\u001b[0m\n\u001b[0;32m---> 81\u001b[0;31m       \u001b[0mself\u001b[0m\u001b[0;34m.\u001b[0m\u001b[0mA\u001b[0m\u001b[0;34m[\u001b[0m\u001b[0mi\u001b[0m\u001b[0;34m]\u001b[0m \u001b[0;34m=\u001b[0m \u001b[0mself\u001b[0m\u001b[0;34m.\u001b[0m\u001b[0mA\u001b[0m\u001b[0;34m[\u001b[0m\u001b[0mi\u001b[0m\u001b[0;34m+\u001b[0m\u001b[0;36m1\u001b[0m\u001b[0;34m]\u001b[0m\u001b[0;34m\u001b[0m\u001b[0;34m\u001b[0m\u001b[0m\n\u001b[0m\u001b[1;32m     82\u001b[0m     \u001b[0mself\u001b[0m\u001b[0;34m.\u001b[0m\u001b[0mn\u001b[0m \u001b[0;34m-=\u001b[0m \u001b[0;36m1\u001b[0m\u001b[0;34m\u001b[0m\u001b[0;34m\u001b[0m\u001b[0m\n",
            "\u001b[0;31mValueError\u001b[0m: PyObject is NULL"
          ]
        }
      ]
    },
    {
      "cell_type": "code",
      "source": [
        "for i in range(3,0,-1):\n",
        "  print(i)"
      ],
      "metadata": {
        "colab": {
          "base_uri": "https://localhost:8080/"
        },
        "id": "rzjJwlepI2yG",
        "outputId": "c69c5b56-b566-482c-982e-57478a422156"
      },
      "execution_count": null,
      "outputs": [
        {
          "output_type": "stream",
          "name": "stdout",
          "text": [
            "3\n",
            "2\n",
            "1\n"
          ]
        }
      ]
    },
    {
      "cell_type": "code",
      "source": [
        "with open(\"/content/example.txt\", \"r+\") as file:\n",
        "    data = file.read()\n",
        "    print(\"Before:\", data)\n",
        "    file.write(\"\\nAdding new content.\")\n",
        "    file.seek(0)\n",
        "    updated_data = file.read()\n",
        "    print(\"After:\", updated_data)"
      ],
      "metadata": {
        "colab": {
          "base_uri": "https://localhost:8080/",
          "height": 217
        },
        "id": "kaqjBuCeEklw",
        "outputId": "095eaa4a-c3fe-45e9-9b43-123169817555"
      },
      "execution_count": null,
      "outputs": [
        {
          "output_type": "error",
          "ename": "FileNotFoundError",
          "evalue": "[Errno 2] No such file or directory: '/content/example.txt'",
          "traceback": [
            "\u001b[0;31m---------------------------------------------------------------------------\u001b[0m",
            "\u001b[0;31mFileNotFoundError\u001b[0m                         Traceback (most recent call last)",
            "\u001b[0;32m<ipython-input-8-f25a91c598d9>\u001b[0m in \u001b[0;36m<cell line: 1>\u001b[0;34m()\u001b[0m\n\u001b[0;32m----> 1\u001b[0;31m \u001b[0;32mwith\u001b[0m \u001b[0mopen\u001b[0m\u001b[0;34m(\u001b[0m\u001b[0;34m\"/content/example.txt\"\u001b[0m\u001b[0;34m,\u001b[0m \u001b[0;34m\"r+\"\u001b[0m\u001b[0;34m)\u001b[0m \u001b[0;32mas\u001b[0m \u001b[0mfile\u001b[0m\u001b[0;34m:\u001b[0m\u001b[0;34m\u001b[0m\u001b[0;34m\u001b[0m\u001b[0m\n\u001b[0m\u001b[1;32m      2\u001b[0m     \u001b[0mdata\u001b[0m \u001b[0;34m=\u001b[0m \u001b[0mfile\u001b[0m\u001b[0;34m.\u001b[0m\u001b[0mread\u001b[0m\u001b[0;34m(\u001b[0m\u001b[0;34m)\u001b[0m\u001b[0;34m\u001b[0m\u001b[0;34m\u001b[0m\u001b[0m\n\u001b[1;32m      3\u001b[0m     \u001b[0mprint\u001b[0m\u001b[0;34m(\u001b[0m\u001b[0;34m\"Before:\"\u001b[0m\u001b[0;34m,\u001b[0m \u001b[0mdata\u001b[0m\u001b[0;34m)\u001b[0m\u001b[0;34m\u001b[0m\u001b[0;34m\u001b[0m\u001b[0m\n\u001b[1;32m      4\u001b[0m     \u001b[0mfile\u001b[0m\u001b[0;34m.\u001b[0m\u001b[0mwrite\u001b[0m\u001b[0;34m(\u001b[0m\u001b[0;34m\"\\nAdding new content.\"\u001b[0m\u001b[0;34m)\u001b[0m\u001b[0;34m\u001b[0m\u001b[0;34m\u001b[0m\u001b[0m\n\u001b[1;32m      5\u001b[0m     \u001b[0mfile\u001b[0m\u001b[0;34m.\u001b[0m\u001b[0mseek\u001b[0m\u001b[0;34m(\u001b[0m\u001b[0;36m0\u001b[0m\u001b[0;34m)\u001b[0m\u001b[0;34m\u001b[0m\u001b[0;34m\u001b[0m\u001b[0m\n",
            "\u001b[0;31mFileNotFoundError\u001b[0m: [Errno 2] No such file or directory: '/content/example.txt'"
          ]
        }
      ]
    },
    {
      "cell_type": "code",
      "source": [
        "with open(\"/content/example.txt\", \"w+\") as file:\n",
        "    file.write(\"Initial content.\")\n",
        "    file.seek(0)\n",
        "    data = file.read()\n",
        "    print(data)\n"
      ],
      "metadata": {
        "colab": {
          "base_uri": "https://localhost:8080/"
        },
        "id": "x5myLCdeEkZw",
        "outputId": "b5f8923f-1ddb-44d4-9360-7d8ca4c82c56"
      },
      "execution_count": null,
      "outputs": [
        {
          "output_type": "stream",
          "name": "stdout",
          "text": [
            "Initial content.\n"
          ]
        }
      ]
    },
    {
      "cell_type": "code",
      "source": [
        "L = list()"
      ],
      "metadata": {
        "id": "bHZPlUuQl3bM"
      },
      "execution_count": null,
      "outputs": []
    },
    {
      "cell_type": "code",
      "source": [
        "L.append(\"Lavanya\")\n",
        "L.append(\"Pavan\")\n",
        "L.append(\"Ram\")"
      ],
      "metadata": {
        "id": "WLDGqHSVsOu5"
      },
      "execution_count": null,
      "outputs": []
    },
    {
      "cell_type": "code",
      "source": [
        "print(L)"
      ],
      "metadata": {
        "colab": {
          "base_uri": "https://localhost:8080/"
        },
        "id": "2k0ieWGNsQ8C",
        "outputId": "21d8b241-0a0a-4099-e212-09eba4c65c56"
      },
      "execution_count": null,
      "outputs": [
        {
          "output_type": "stream",
          "name": "stdout",
          "text": [
            "[]\n"
          ]
        }
      ]
    },
    {
      "cell_type": "code",
      "source": [
        "L.clear()"
      ],
      "metadata": {
        "id": "iUG2MQu43_Q3"
      },
      "execution_count": null,
      "outputs": []
    },
    {
      "cell_type": "code",
      "source": [
        "!ls\n"
      ],
      "metadata": {
        "id": "c5i4ExQT9-O2",
        "colab": {
          "base_uri": "https://localhost:8080/"
        },
        "outputId": "05d94ebb-c476-420b-e3ab-1c6ef0e91bd7"
      },
      "execution_count": null,
      "outputs": [
        {
          "output_type": "stream",
          "name": "stdout",
          "text": [
            "sample_data\n"
          ]
        }
      ]
    },
    {
      "cell_type": "code",
      "source": [
        "!pwd"
      ],
      "metadata": {
        "colab": {
          "base_uri": "https://localhost:8080/"
        },
        "id": "L9CHaXPkuTxO",
        "outputId": "562fa590-64cf-4ed8-8f35-ed7eb344337e"
      },
      "execution_count": null,
      "outputs": [
        {
          "output_type": "stream",
          "name": "stdout",
          "text": [
            "/content\n"
          ]
        }
      ]
    },
    {
      "cell_type": "code",
      "source": [
        "!ls"
      ],
      "metadata": {
        "colab": {
          "base_uri": "https://localhost:8080/"
        },
        "id": "WmUk-9pTufXt",
        "outputId": "3d430169-7ec3-4670-cf4e-00fbfd4d0a40"
      },
      "execution_count": null,
      "outputs": [
        {
          "output_type": "stream",
          "name": "stdout",
          "text": [
            "sample_data\n"
          ]
        }
      ]
    },
    {
      "cell_type": "code",
      "source": [
        "!sl"
      ],
      "metadata": {
        "colab": {
          "base_uri": "https://localhost:8080/"
        },
        "id": "l_8AeJeAukqN",
        "outputId": "2d2c10f9-08ad-4bb4-b763-df02b654582b"
      },
      "execution_count": null,
      "outputs": [
        {
          "output_type": "stream",
          "name": "stdout",
          "text": [
            "/bin/bash: line 1: sl: command not found\n"
          ]
        }
      ]
    },
    {
      "cell_type": "code",
      "source": [
        "!apt install sl"
      ],
      "metadata": {
        "colab": {
          "base_uri": "https://localhost:8080/"
        },
        "id": "tM9VdPYMvCgE",
        "outputId": "b8f40a71-3ecb-4587-f5b1-9f2f6d4a0fdd"
      },
      "execution_count": null,
      "outputs": [
        {
          "output_type": "stream",
          "name": "stdout",
          "text": [
            "Reading package lists... Done\n",
            "Building dependency tree... Done\n",
            "Reading state information... Done\n",
            "The following NEW packages will be installed:\n",
            "  sl\n",
            "0 upgraded, 1 newly installed, 0 to remove and 35 not upgraded.\n",
            "Need to get 12.7 kB of archives.\n",
            "After this operation, 60.4 kB of additional disk space will be used.\n",
            "Get:1 http://archive.ubuntu.com/ubuntu jammy/universe amd64 sl amd64 5.02-1 [12.7 kB]\n",
            "Fetched 12.7 kB in 0s (110 kB/s)\n",
            "Selecting previously unselected package sl.\n",
            "(Reading database ... 121749 files and directories currently installed.)\n",
            "Preparing to unpack .../archives/sl_5.02-1_amd64.deb ...\n",
            "Unpacking sl (5.02-1) ...\n",
            "Setting up sl (5.02-1) ...\n",
            "Processing triggers for man-db (2.10.2-1) ...\n"
          ]
        }
      ]
    },
    {
      "cell_type": "code",
      "source": [
        "!sl"
      ],
      "metadata": {
        "colab": {
          "base_uri": "https://localhost:8080/"
        },
        "id": "6brzr6DZvF-o",
        "outputId": "bb41f974-1621-4322-b56f-55e1f0fd733f"
      },
      "execution_count": null,
      "outputs": [
        {
          "output_type": "stream",
          "name": "stdout",
          "text": [
            "/bin/bash: line 1: sl: command not found\n"
          ]
        }
      ]
    },
    {
      "cell_type": "code",
      "source": [
        "!ls"
      ],
      "metadata": {
        "colab": {
          "base_uri": "https://localhost:8080/"
        },
        "id": "niP1qV90vYHT",
        "outputId": "ef18947c-e660-40ad-ed1b-ecd2ddabce46"
      },
      "execution_count": null,
      "outputs": [
        {
          "output_type": "stream",
          "name": "stdout",
          "text": [
            "Lavanya  sample_data\n"
          ]
        }
      ]
    },
    {
      "cell_type": "code",
      "source": [
        "!cowsay \"Lavanya\""
      ],
      "metadata": {
        "colab": {
          "base_uri": "https://localhost:8080/"
        },
        "id": "swXxlztSv8y6",
        "outputId": "f8685cd2-fa9a-4465-f9d4-fdfc3e79c500"
      },
      "execution_count": null,
      "outputs": [
        {
          "output_type": "stream",
          "name": "stdout",
          "text": [
            "/bin/bash: line 1: cowsay: command not found\n"
          ]
        }
      ]
    },
    {
      "cell_type": "code",
      "source": [
        "!neofetch"
      ],
      "metadata": {
        "colab": {
          "base_uri": "https://localhost:8080/"
        },
        "id": "Yj0AdoYpwSVO",
        "outputId": "a7df13c6-8483-4afb-c494-7b7240195cbc"
      },
      "execution_count": null,
      "outputs": [
        {
          "output_type": "stream",
          "name": "stdout",
          "text": [
            "/bin/bash: line 1: neofetch: command not found\n"
          ]
        }
      ]
    },
    {
      "cell_type": "code",
      "source": [
        "!apt install neofetch"
      ],
      "metadata": {
        "colab": {
          "base_uri": "https://localhost:8080/"
        },
        "id": "OgkSDqoQwo8R",
        "outputId": "7d4b85e4-eb8a-4d9e-9d73-ddba1d08efcd"
      },
      "execution_count": null,
      "outputs": [
        {
          "output_type": "stream",
          "name": "stdout",
          "text": [
            "Reading package lists... Done\n",
            "Building dependency tree... Done\n",
            "Reading state information... Done\n",
            "The following additional packages will be installed:\n",
            "  caca-utils chafa fonts-droid-fallback fonts-noto-mono fonts-urw-base35 ghostscript gsfonts\n",
            "  imagemagick imagemagick-6-common imagemagick-6.q16 jp2a libchafa0 libdjvulibre-text\n",
            "  libdjvulibre21 libfftw3-double3 libgs9 libgs9-common libid3tag0 libidn12 libijs-0.35 libimlib2\n",
            "  libjbig2dec0 libjxr-tools libjxr0 liblqr-1-0 libmagickcore-6.q16-6 libmagickcore-6.q16-6-extra\n",
            "  libmagickwand-6.q16-6 libnetpbm10 libpci3 libsixel-bin libsixel1 libwmflite-0.2-7 netpbm pci.ids\n",
            "  pciutils poppler-data toilet toilet-fonts w3m w3m-img\n",
            "Suggested packages:\n",
            "  fonts-noto fonts-freefont-otf | fonts-freefont-ttf fonts-texgyre ghostscript-x imagemagick-doc\n",
            "  autotrace cups-bsd | lpr | lprng enscript gimp gnuplot grads hp2xx html2ps libwmf-bin mplayer\n",
            "  povray radiance sane-utils texlive-base-bin transfig ufraw-batch libfftw3-bin libfftw3-dev\n",
            "  inkscape poppler-utils fonts-japanese-mincho | fonts-ipafont-mincho fonts-japanese-gothic\n",
            "  | fonts-ipafont-gothic fonts-arphic-ukai fonts-arphic-uming fonts-nanum figlet cmigemo dict\n",
            "  dict-wn dictd mime-support w3m-el\n",
            "The following NEW packages will be installed:\n",
            "  caca-utils chafa fonts-droid-fallback fonts-noto-mono fonts-urw-base35 ghostscript gsfonts\n",
            "  imagemagick imagemagick-6-common imagemagick-6.q16 jp2a libchafa0 libdjvulibre-text\n",
            "  libdjvulibre21 libfftw3-double3 libgs9 libgs9-common libid3tag0 libidn12 libijs-0.35 libimlib2\n",
            "  libjbig2dec0 libjxr-tools libjxr0 liblqr-1-0 libmagickcore-6.q16-6 libmagickcore-6.q16-6-extra\n",
            "  libmagickwand-6.q16-6 libnetpbm10 libpci3 libsixel-bin libsixel1 libwmflite-0.2-7 neofetch netpbm\n",
            "  pci.ids pciutils poppler-data toilet toilet-fonts w3m w3m-img\n",
            "0 upgraded, 42 newly installed, 0 to remove and 35 not upgraded.\n",
            "Need to get 28.0 MB of archives.\n",
            "After this operation, 95.9 MB of additional disk space will be used.\n",
            "Get:1 http://archive.ubuntu.com/ubuntu jammy/main amd64 fonts-droid-fallback all 1:6.0.1r16-1.1build1 [1,805 kB]\n",
            "Get:2 http://archive.ubuntu.com/ubuntu jammy/main amd64 libfftw3-double3 amd64 3.3.8-2ubuntu8 [770 kB]\n",
            "Get:3 http://archive.ubuntu.com/ubuntu jammy/universe amd64 liblqr-1-0 amd64 0.4.2-2.1 [27.7 kB]\n",
            "Get:4 http://archive.ubuntu.com/ubuntu jammy-updates/universe amd64 imagemagick-6-common all 8:6.9.11.60+dfsg-1.3ubuntu0.22.04.3 [63.6 kB]\n",
            "Get:5 http://archive.ubuntu.com/ubuntu jammy-updates/universe amd64 libmagickcore-6.q16-6 amd64 8:6.9.11.60+dfsg-1.3ubuntu0.22.04.3 [1,788 kB]\n",
            "Get:6 http://archive.ubuntu.com/ubuntu jammy-updates/universe amd64 libmagickwand-6.q16-6 amd64 8:6.9.11.60+dfsg-1.3ubuntu0.22.04.3 [328 kB]\n",
            "Get:7 http://archive.ubuntu.com/ubuntu jammy/main amd64 poppler-data all 0.4.11-1 [2,171 kB]\n",
            "Get:8 http://archive.ubuntu.com/ubuntu jammy/main amd64 pci.ids all 0.0~2022.01.22-1 [251 kB]\n",
            "Get:9 http://archive.ubuntu.com/ubuntu jammy/main amd64 libpci3 amd64 1:3.7.0-6 [28.9 kB]\n",
            "Get:10 http://archive.ubuntu.com/ubuntu jammy/main amd64 pciutils amd64 1:3.7.0-6 [63.6 kB]\n",
            "Get:11 http://archive.ubuntu.com/ubuntu jammy/universe amd64 libid3tag0 amd64 0.15.1b-14 [31.3 kB]\n",
            "Get:12 http://archive.ubuntu.com/ubuntu jammy/universe amd64 libimlib2 amd64 1.7.4-1build1 [195 kB]\n",
            "Get:13 http://archive.ubuntu.com/ubuntu jammy/universe amd64 caca-utils amd64 0.99.beta19-2.2ubuntu4 [57.1 kB]\n",
            "Get:14 http://archive.ubuntu.com/ubuntu jammy/universe amd64 libchafa0 amd64 1.8.0-1 [88.3 kB]\n",
            "Get:15 http://archive.ubuntu.com/ubuntu jammy/universe amd64 chafa amd64 1.8.0-1 [38.6 kB]\n",
            "Get:16 http://archive.ubuntu.com/ubuntu jammy/main amd64 fonts-noto-mono all 20201225-1build1 [397 kB]\n",
            "Get:17 http://archive.ubuntu.com/ubuntu jammy/main amd64 fonts-urw-base35 all 20200910-1 [6,367 kB]\n",
            "Get:18 http://archive.ubuntu.com/ubuntu jammy-updates/main amd64 libgs9-common all 9.55.0~dfsg1-0ubuntu5.6 [751 kB]\n",
            "Get:19 http://archive.ubuntu.com/ubuntu jammy-updates/main amd64 libidn12 amd64 1.38-4ubuntu1 [60.0 kB]\n",
            "Get:20 http://archive.ubuntu.com/ubuntu jammy/main amd64 libijs-0.35 amd64 0.35-15build2 [16.5 kB]\n",
            "Get:21 http://archive.ubuntu.com/ubuntu jammy/main amd64 libjbig2dec0 amd64 0.19-3build2 [64.7 kB]\n",
            "Get:22 http://archive.ubuntu.com/ubuntu jammy-updates/main amd64 libgs9 amd64 9.55.0~dfsg1-0ubuntu5.6 [5,031 kB]\n",
            "Get:23 http://archive.ubuntu.com/ubuntu jammy-updates/main amd64 ghostscript amd64 9.55.0~dfsg1-0ubuntu5.6 [49.4 kB]\n",
            "Get:24 http://archive.ubuntu.com/ubuntu jammy/universe amd64 gsfonts all 1:8.11+urwcyr1.0.7~pre44-4.5 [3,120 kB]\n",
            "Get:25 http://archive.ubuntu.com/ubuntu jammy-updates/universe amd64 imagemagick-6.q16 amd64 8:6.9.11.60+dfsg-1.3ubuntu0.22.04.3 [224 kB]\n",
            "Get:26 http://archive.ubuntu.com/ubuntu jammy-updates/universe amd64 imagemagick amd64 8:6.9.11.60+dfsg-1.3ubuntu0.22.04.3 [14.6 kB]\n",
            "Get:27 http://archive.ubuntu.com/ubuntu jammy/universe amd64 jp2a amd64 1.1.1-1 [28.9 kB]\n",
            "Get:28 http://archive.ubuntu.com/ubuntu jammy/main amd64 libdjvulibre-text all 3.5.28-2build2 [50.9 kB]\n",
            "Get:29 http://archive.ubuntu.com/ubuntu jammy/main amd64 libdjvulibre21 amd64 3.5.28-2build2 [624 kB]\n",
            "Get:30 http://archive.ubuntu.com/ubuntu jammy/universe amd64 libjxr0 amd64 1.2~git20170615.f752187-5 [174 kB]\n",
            "Get:31 http://archive.ubuntu.com/ubuntu jammy/universe amd64 libjxr-tools amd64 1.2~git20170615.f752187-5 [16.0 kB]\n",
            "Get:32 http://archive.ubuntu.com/ubuntu jammy/main amd64 libwmflite-0.2-7 amd64 0.2.12-5ubuntu1 [68.9 kB]\n",
            "Get:33 http://archive.ubuntu.com/ubuntu jammy-updates/universe amd64 libmagickcore-6.q16-6-extra amd64 8:6.9.11.60+dfsg-1.3ubuntu0.22.04.3 [70.1 kB]\n",
            "Get:34 http://archive.ubuntu.com/ubuntu jammy/universe amd64 libnetpbm10 amd64 2:10.0-15.4 [59.1 kB]\n",
            "Get:35 http://archive.ubuntu.com/ubuntu jammy/universe amd64 neofetch all 7.1.0-3 [84.3 kB]\n",
            "Get:36 http://archive.ubuntu.com/ubuntu jammy/universe amd64 netpbm amd64 2:10.0-15.4 [1,007 kB]\n",
            "Get:37 http://archive.ubuntu.com/ubuntu jammy/universe amd64 toilet-fonts all 0.3-1.4 [714 kB]\n",
            "Get:38 http://archive.ubuntu.com/ubuntu jammy/universe amd64 toilet amd64 0.3-1.4 [12.7 kB]\n",
            "Get:39 http://archive.ubuntu.com/ubuntu jammy-updates/main amd64 w3m amd64 0.5.3+git20210102-6ubuntu0.2 [1,104 kB]\n",
            "Get:40 http://archive.ubuntu.com/ubuntu jammy-updates/universe amd64 w3m-img amd64 0.5.3+git20210102-6ubuntu0.2 [23.6 kB]\n",
            "Get:41 http://archive.ubuntu.com/ubuntu jammy/universe amd64 libsixel1 amd64 1.10.3-3 [111 kB]\n",
            "Get:42 http://archive.ubuntu.com/ubuntu jammy/universe amd64 libsixel-bin amd64 1.10.3-3 [18.5 kB]\n",
            "Fetched 28.0 MB in 1s (33.2 MB/s)\n",
            "Extracting templates from packages: 100%\n",
            "Selecting previously unselected package fonts-droid-fallback.\n",
            "(Reading database ... 121772 files and directories currently installed.)\n",
            "Preparing to unpack .../00-fonts-droid-fallback_1%3a6.0.1r16-1.1build1_all.deb ...\n",
            "Unpacking fonts-droid-fallback (1:6.0.1r16-1.1build1) ...\n",
            "Selecting previously unselected package libfftw3-double3:amd64.\n",
            "Preparing to unpack .../01-libfftw3-double3_3.3.8-2ubuntu8_amd64.deb ...\n",
            "Unpacking libfftw3-double3:amd64 (3.3.8-2ubuntu8) ...\n",
            "Selecting previously unselected package liblqr-1-0:amd64.\n",
            "Preparing to unpack .../02-liblqr-1-0_0.4.2-2.1_amd64.deb ...\n",
            "Unpacking liblqr-1-0:amd64 (0.4.2-2.1) ...\n",
            "Selecting previously unselected package imagemagick-6-common.\n",
            "Preparing to unpack .../03-imagemagick-6-common_8%3a6.9.11.60+dfsg-1.3ubuntu0.22.04.3_all.deb ...\n",
            "Unpacking imagemagick-6-common (8:6.9.11.60+dfsg-1.3ubuntu0.22.04.3) ...\n",
            "Selecting previously unselected package libmagickcore-6.q16-6:amd64.\n",
            "Preparing to unpack .../04-libmagickcore-6.q16-6_8%3a6.9.11.60+dfsg-1.3ubuntu0.22.04.3_amd64.deb ...\n",
            "Unpacking libmagickcore-6.q16-6:amd64 (8:6.9.11.60+dfsg-1.3ubuntu0.22.04.3) ...\n",
            "Selecting previously unselected package libmagickwand-6.q16-6:amd64.\n",
            "Preparing to unpack .../05-libmagickwand-6.q16-6_8%3a6.9.11.60+dfsg-1.3ubuntu0.22.04.3_amd64.deb ...\n",
            "Unpacking libmagickwand-6.q16-6:amd64 (8:6.9.11.60+dfsg-1.3ubuntu0.22.04.3) ...\n",
            "Selecting previously unselected package poppler-data.\n",
            "Preparing to unpack .../06-poppler-data_0.4.11-1_all.deb ...\n",
            "Unpacking poppler-data (0.4.11-1) ...\n",
            "Selecting previously unselected package pci.ids.\n",
            "Preparing to unpack .../07-pci.ids_0.0~2022.01.22-1_all.deb ...\n",
            "Unpacking pci.ids (0.0~2022.01.22-1) ...\n",
            "Selecting previously unselected package libpci3:amd64.\n",
            "Preparing to unpack .../08-libpci3_1%3a3.7.0-6_amd64.deb ...\n",
            "Unpacking libpci3:amd64 (1:3.7.0-6) ...\n",
            "Selecting previously unselected package pciutils.\n",
            "Preparing to unpack .../09-pciutils_1%3a3.7.0-6_amd64.deb ...\n",
            "Unpacking pciutils (1:3.7.0-6) ...\n",
            "Selecting previously unselected package libid3tag0:amd64.\n",
            "Preparing to unpack .../10-libid3tag0_0.15.1b-14_amd64.deb ...\n",
            "Unpacking libid3tag0:amd64 (0.15.1b-14) ...\n",
            "Selecting previously unselected package libimlib2:amd64.\n",
            "Preparing to unpack .../11-libimlib2_1.7.4-1build1_amd64.deb ...\n",
            "Unpacking libimlib2:amd64 (1.7.4-1build1) ...\n",
            "Selecting previously unselected package caca-utils.\n",
            "Preparing to unpack .../12-caca-utils_0.99.beta19-2.2ubuntu4_amd64.deb ...\n",
            "Unpacking caca-utils (0.99.beta19-2.2ubuntu4) ...\n",
            "Selecting previously unselected package libchafa0:amd64.\n",
            "Preparing to unpack .../13-libchafa0_1.8.0-1_amd64.deb ...\n",
            "Unpacking libchafa0:amd64 (1.8.0-1) ...\n",
            "Selecting previously unselected package chafa.\n",
            "Preparing to unpack .../14-chafa_1.8.0-1_amd64.deb ...\n",
            "Unpacking chafa (1.8.0-1) ...\n",
            "Selecting previously unselected package fonts-noto-mono.\n",
            "Preparing to unpack .../15-fonts-noto-mono_20201225-1build1_all.deb ...\n",
            "Unpacking fonts-noto-mono (20201225-1build1) ...\n",
            "Selecting previously unselected package fonts-urw-base35.\n",
            "Preparing to unpack .../16-fonts-urw-base35_20200910-1_all.deb ...\n",
            "Unpacking fonts-urw-base35 (20200910-1) ...\n",
            "Selecting previously unselected package libgs9-common.\n",
            "Preparing to unpack .../17-libgs9-common_9.55.0~dfsg1-0ubuntu5.6_all.deb ...\n",
            "Unpacking libgs9-common (9.55.0~dfsg1-0ubuntu5.6) ...\n",
            "Selecting previously unselected package libidn12:amd64.\n",
            "Preparing to unpack .../18-libidn12_1.38-4ubuntu1_amd64.deb ...\n",
            "Unpacking libidn12:amd64 (1.38-4ubuntu1) ...\n",
            "Selecting previously unselected package libijs-0.35:amd64.\n",
            "Preparing to unpack .../19-libijs-0.35_0.35-15build2_amd64.deb ...\n",
            "Unpacking libijs-0.35:amd64 (0.35-15build2) ...\n",
            "Selecting previously unselected package libjbig2dec0:amd64.\n",
            "Preparing to unpack .../20-libjbig2dec0_0.19-3build2_amd64.deb ...\n",
            "Unpacking libjbig2dec0:amd64 (0.19-3build2) ...\n",
            "Selecting previously unselected package libgs9:amd64.\n",
            "Preparing to unpack .../21-libgs9_9.55.0~dfsg1-0ubuntu5.6_amd64.deb ...\n",
            "Unpacking libgs9:amd64 (9.55.0~dfsg1-0ubuntu5.6) ...\n",
            "Selecting previously unselected package ghostscript.\n",
            "Preparing to unpack .../22-ghostscript_9.55.0~dfsg1-0ubuntu5.6_amd64.deb ...\n",
            "Unpacking ghostscript (9.55.0~dfsg1-0ubuntu5.6) ...\n",
            "Selecting previously unselected package gsfonts.\n",
            "Preparing to unpack .../23-gsfonts_1%3a8.11+urwcyr1.0.7~pre44-4.5_all.deb ...\n",
            "Unpacking gsfonts (1:8.11+urwcyr1.0.7~pre44-4.5) ...\n",
            "Selecting previously unselected package imagemagick-6.q16.\n",
            "Preparing to unpack .../24-imagemagick-6.q16_8%3a6.9.11.60+dfsg-1.3ubuntu0.22.04.3_amd64.deb ...\n",
            "Unpacking imagemagick-6.q16 (8:6.9.11.60+dfsg-1.3ubuntu0.22.04.3) ...\n",
            "Selecting previously unselected package imagemagick.\n",
            "Preparing to unpack .../25-imagemagick_8%3a6.9.11.60+dfsg-1.3ubuntu0.22.04.3_amd64.deb ...\n",
            "Unpacking imagemagick (8:6.9.11.60+dfsg-1.3ubuntu0.22.04.3) ...\n",
            "Selecting previously unselected package jp2a.\n",
            "Preparing to unpack .../26-jp2a_1.1.1-1_amd64.deb ...\n",
            "Unpacking jp2a (1.1.1-1) ...\n",
            "Selecting previously unselected package libdjvulibre-text.\n",
            "Preparing to unpack .../27-libdjvulibre-text_3.5.28-2build2_all.deb ...\n",
            "Unpacking libdjvulibre-text (3.5.28-2build2) ...\n",
            "Selecting previously unselected package libdjvulibre21:amd64.\n",
            "Preparing to unpack .../28-libdjvulibre21_3.5.28-2build2_amd64.deb ...\n",
            "Unpacking libdjvulibre21:amd64 (3.5.28-2build2) ...\n",
            "Selecting previously unselected package libjxr0:amd64.\n",
            "Preparing to unpack .../29-libjxr0_1.2~git20170615.f752187-5_amd64.deb ...\n",
            "Unpacking libjxr0:amd64 (1.2~git20170615.f752187-5) ...\n",
            "Selecting previously unselected package libjxr-tools.\n",
            "Preparing to unpack .../30-libjxr-tools_1.2~git20170615.f752187-5_amd64.deb ...\n",
            "Unpacking libjxr-tools (1.2~git20170615.f752187-5) ...\n",
            "Selecting previously unselected package libwmflite-0.2-7:amd64.\n",
            "Preparing to unpack .../31-libwmflite-0.2-7_0.2.12-5ubuntu1_amd64.deb ...\n",
            "Unpacking libwmflite-0.2-7:amd64 (0.2.12-5ubuntu1) ...\n",
            "Selecting previously unselected package libmagickcore-6.q16-6-extra:amd64.\n",
            "Preparing to unpack .../32-libmagickcore-6.q16-6-extra_8%3a6.9.11.60+dfsg-1.3ubuntu0.22.04.3_amd64.deb ...\n",
            "Unpacking libmagickcore-6.q16-6-extra:amd64 (8:6.9.11.60+dfsg-1.3ubuntu0.22.04.3) ...\n",
            "Selecting previously unselected package libnetpbm10.\n",
            "Preparing to unpack .../33-libnetpbm10_2%3a10.0-15.4_amd64.deb ...\n",
            "Unpacking libnetpbm10 (2:10.0-15.4) ...\n",
            "Selecting previously unselected package neofetch.\n",
            "Preparing to unpack .../34-neofetch_7.1.0-3_all.deb ...\n",
            "Unpacking neofetch (7.1.0-3) ...\n",
            "Selecting previously unselected package netpbm.\n",
            "Preparing to unpack .../35-netpbm_2%3a10.0-15.4_amd64.deb ...\n",
            "Unpacking netpbm (2:10.0-15.4) ...\n",
            "Selecting previously unselected package toilet-fonts.\n",
            "Preparing to unpack .../36-toilet-fonts_0.3-1.4_all.deb ...\n",
            "Unpacking toilet-fonts (0.3-1.4) ...\n",
            "Selecting previously unselected package toilet.\n",
            "Preparing to unpack .../37-toilet_0.3-1.4_amd64.deb ...\n",
            "Unpacking toilet (0.3-1.4) ...\n",
            "Selecting previously unselected package w3m.\n",
            "Preparing to unpack .../38-w3m_0.5.3+git20210102-6ubuntu0.2_amd64.deb ...\n",
            "Unpacking w3m (0.5.3+git20210102-6ubuntu0.2) ...\n",
            "Selecting previously unselected package w3m-img.\n",
            "Preparing to unpack .../39-w3m-img_0.5.3+git20210102-6ubuntu0.2_amd64.deb ...\n",
            "Unpacking w3m-img (0.5.3+git20210102-6ubuntu0.2) ...\n",
            "Selecting previously unselected package libsixel1:amd64.\n",
            "Preparing to unpack .../40-libsixel1_1.10.3-3_amd64.deb ...\n",
            "Unpacking libsixel1:amd64 (1.10.3-3) ...\n",
            "Selecting previously unselected package libsixel-bin.\n",
            "Preparing to unpack .../41-libsixel-bin_1.10.3-3_amd64.deb ...\n",
            "Unpacking libsixel-bin (1.10.3-3) ...\n",
            "Setting up imagemagick-6-common (8:6.9.11.60+dfsg-1.3ubuntu0.22.04.3) ...\n",
            "Setting up pci.ids (0.0~2022.01.22-1) ...\n",
            "Setting up toilet-fonts (0.3-1.4) ...\n",
            "Setting up fonts-noto-mono (20201225-1build1) ...\n",
            "Setting up libwmflite-0.2-7:amd64 (0.2.12-5ubuntu1) ...\n",
            "Setting up toilet (0.3-1.4) ...\n",
            "update-alternatives: using /usr/bin/figlet-toilet to provide /usr/bin/figlet (figlet) in auto mode\n",
            "Setting up libijs-0.35:amd64 (0.35-15build2) ...\n",
            "Setting up libjxr0:amd64 (1.2~git20170615.f752187-5) ...\n",
            "Setting up jp2a (1.1.1-1) ...\n",
            "Setting up libnetpbm10 (2:10.0-15.4) ...\n",
            "Setting up fonts-urw-base35 (20200910-1) ...\n",
            "Setting up neofetch (7.1.0-3) ...\n",
            "Setting up poppler-data (0.4.11-1) ...\n",
            "Setting up libchafa0:amd64 (1.8.0-1) ...\n",
            "Setting up libid3tag0:amd64 (0.15.1b-14) ...\n",
            "Setting up w3m (0.5.3+git20210102-6ubuntu0.2) ...\n",
            "Setting up libjbig2dec0:amd64 (0.19-3build2) ...\n",
            "Setting up gsfonts (1:8.11+urwcyr1.0.7~pre44-4.5) ...\n",
            "Setting up libsixel1:amd64 (1.10.3-3) ...\n",
            "Setting up libidn12:amd64 (1.38-4ubuntu1) ...\n",
            "Setting up libimlib2:amd64 (1.7.4-1build1) ...\n",
            "Setting up netpbm (2:10.0-15.4) ...\n",
            "Setting up libfftw3-double3:amd64 (3.3.8-2ubuntu8) ...\n",
            "Setting up libpci3:amd64 (1:3.7.0-6) ...\n",
            "Setting up liblqr-1-0:amd64 (0.4.2-2.1) ...\n",
            "Setting up w3m-img (0.5.3+git20210102-6ubuntu0.2) ...\n",
            "Setting up fonts-droid-fallback (1:6.0.1r16-1.1build1) ...\n",
            "Setting up libdjvulibre-text (3.5.28-2build2) ...\n",
            "Setting up libgs9-common (9.55.0~dfsg1-0ubuntu5.6) ...\n",
            "Setting up libjxr-tools (1.2~git20170615.f752187-5) ...\n",
            "Setting up libgs9:amd64 (9.55.0~dfsg1-0ubuntu5.6) ...\n",
            "Setting up caca-utils (0.99.beta19-2.2ubuntu4) ...\n",
            "Setting up libdjvulibre21:amd64 (3.5.28-2build2) ...\n",
            "Setting up ghostscript (9.55.0~dfsg1-0ubuntu5.6) ...\n",
            "Setting up libsixel-bin (1.10.3-3) ...\n",
            "Setting up libmagickcore-6.q16-6:amd64 (8:6.9.11.60+dfsg-1.3ubuntu0.22.04.3) ...\n",
            "Setting up pciutils (1:3.7.0-6) ...\n",
            "Setting up libmagickwand-6.q16-6:amd64 (8:6.9.11.60+dfsg-1.3ubuntu0.22.04.3) ...\n",
            "Setting up libmagickcore-6.q16-6-extra:amd64 (8:6.9.11.60+dfsg-1.3ubuntu0.22.04.3) ...\n",
            "Setting up chafa (1.8.0-1) ...\n",
            "Setting up imagemagick-6.q16 (8:6.9.11.60+dfsg-1.3ubuntu0.22.04.3) ...\n",
            "update-alternatives: using /usr/bin/compare-im6.q16 to provide /usr/bin/compare (compare) in auto mode\n",
            "update-alternatives: using /usr/bin/compare-im6.q16 to provide /usr/bin/compare-im6 (compare-im6) in auto mode\n",
            "update-alternatives: using /usr/bin/animate-im6.q16 to provide /usr/bin/animate (animate) in auto mode\n",
            "update-alternatives: using /usr/bin/animate-im6.q16 to provide /usr/bin/animate-im6 (animate-im6) in auto mode\n",
            "update-alternatives: using /usr/bin/convert-im6.q16 to provide /usr/bin/convert (convert) in auto mode\n",
            "update-alternatives: using /usr/bin/convert-im6.q16 to provide /usr/bin/convert-im6 (convert-im6) in auto mode\n",
            "update-alternatives: using /usr/bin/composite-im6.q16 to provide /usr/bin/composite (composite) in auto mode\n",
            "update-alternatives: using /usr/bin/composite-im6.q16 to provide /usr/bin/composite-im6 (composite-im6) in auto mode\n",
            "update-alternatives: using /usr/bin/conjure-im6.q16 to provide /usr/bin/conjure (conjure) in auto mode\n",
            "update-alternatives: using /usr/bin/conjure-im6.q16 to provide /usr/bin/conjure-im6 (conjure-im6) in auto mode\n",
            "update-alternatives: using /usr/bin/import-im6.q16 to provide /usr/bin/import (import) in auto mode\n",
            "update-alternatives: using /usr/bin/import-im6.q16 to provide /usr/bin/import-im6 (import-im6) in auto mode\n",
            "update-alternatives: using /usr/bin/identify-im6.q16 to provide /usr/bin/identify (identify) in auto mode\n",
            "update-alternatives: using /usr/bin/identify-im6.q16 to provide /usr/bin/identify-im6 (identify-im6) in auto mode\n",
            "update-alternatives: using /usr/bin/stream-im6.q16 to provide /usr/bin/stream (stream) in auto mode\n",
            "update-alternatives: using /usr/bin/stream-im6.q16 to provide /usr/bin/stream-im6 (stream-im6) in auto mode\n",
            "update-alternatives: using /usr/bin/display-im6.q16 to provide /usr/bin/display (display) in auto mode\n",
            "update-alternatives: using /usr/bin/display-im6.q16 to provide /usr/bin/display-im6 (display-im6) in auto mode\n",
            "update-alternatives: using /usr/bin/montage-im6.q16 to provide /usr/bin/montage (montage) in auto mode\n",
            "update-alternatives: using /usr/bin/montage-im6.q16 to provide /usr/bin/montage-im6 (montage-im6) in auto mode\n",
            "update-alternatives: using /usr/bin/mogrify-im6.q16 to provide /usr/bin/mogrify (mogrify) in auto mode\n",
            "update-alternatives: using /usr/bin/mogrify-im6.q16 to provide /usr/bin/mogrify-im6 (mogrify-im6) in auto mode\n",
            "Setting up imagemagick (8:6.9.11.60+dfsg-1.3ubuntu0.22.04.3) ...\n",
            "Processing triggers for hicolor-icon-theme (0.17-2) ...\n",
            "Processing triggers for libc-bin (2.35-0ubuntu3.4) ...\n",
            "/sbin/ldconfig.real: /usr/local/lib/libtbbbind_2_5.so.3 is not a symbolic link\n",
            "\n",
            "/sbin/ldconfig.real: /usr/local/lib/libtbbbind.so.3 is not a symbolic link\n",
            "\n",
            "/sbin/ldconfig.real: /usr/local/lib/libtbbbind_2_0.so.3 is not a symbolic link\n",
            "\n",
            "/sbin/ldconfig.real: /usr/local/lib/libtbbmalloc.so.2 is not a symbolic link\n",
            "\n",
            "/sbin/ldconfig.real: /usr/local/lib/libtbbmalloc_proxy.so.2 is not a symbolic link\n",
            "\n",
            "/sbin/ldconfig.real: /usr/local/lib/libtbb.so.12 is not a symbolic link\n",
            "\n",
            "Processing triggers for man-db (2.10.2-1) ...\n",
            "Processing triggers for fontconfig (2.13.1-4.2ubuntu5) ...\n"
          ]
        }
      ]
    },
    {
      "cell_type": "code",
      "source": [
        "!neofetch --help"
      ],
      "metadata": {
        "colab": {
          "base_uri": "https://localhost:8080/"
        },
        "id": "61CJy4rAwtPx",
        "outputId": "048cc463-c23a-4674-fb08-08be9caf36b7"
      },
      "execution_count": null,
      "outputs": [
        {
          "output_type": "stream",
          "name": "stdout",
          "text": [
            "Usage: neofetch func_name --option \"value\" --option \"value\"\n",
            "\n",
            "Neofetch is a CLI system information tool written in BASH. Neofetch\n",
            "displays information about your system next to an image, your OS logo,\n",
            "or any ASCII file of your choice.\n",
            "\n",
            "NOTE: Every launch flag has a config option.\n",
            "\n",
            "Options:\n",
            "\n",
            "INFO:\n",
            "    func_name                   Specify a function name (second part of info() from config) to\n",
            "                                quickly display only that function's information.\n",
            "\n",
            "                                Example: neofetch uptime --uptime_shorthand tiny\n",
            "\n",
            "                                Example: neofetch uptime disk wm memory\n",
            "\n",
            "                                This can be used in bars and scripts like so:\n",
            "\n",
            "                                memory=\"$(neofetch memory)\"; memory=\"${memory##*: }\"\n",
            "\n",
            "                                For multiple outputs at once (each line of info in an array):\n",
            "\n",
            "                                IFS=$'\\n' read -d \"\" -ra info < <(neofetch memory uptime wm)\n",
            "\n",
            "                                info=(\"${info[@]##*: }\")\n",
            "\n",
            "    --disable infoname          Allows you to disable an info line from appearing\n",
            "                                in the output. 'infoname' is the function name from the\n",
            "                                'print_info()' function inside the config file.\n",
            "                                For example: 'info \"Memory\" memory' would be '--disable memory'\n",
            "\n",
            "                                NOTE: You can supply multiple args. eg. 'neofetch --disable cpu gpu'\n",
            "\n",
            "    --title_fqdn on/off         Hide/Show Fully Qualified Domain Name in title.\n",
            "    --package_managers on/off   Hide/Show Package Manager names . (on, tiny, off)\n",
            "    --os_arch on/off            Hide/Show OS architecture.\n",
            "    --speed_type type           Change the type of cpu speed to display.\n",
            "                                Possible values: current, min, max, bios,\n",
            "                                scaling_current, scaling_min, scaling_max\n",
            "\n",
            "                                NOTE: This only supports Linux with cpufreq.\n",
            "\n",
            "    --speed_shorthand on/off    Whether or not to show decimals in CPU speed.\n",
            "\n",
            "                                NOTE: This flag is not supported in systems with CPU speed less than\n",
            "                                1 GHz.\n",
            "\n",
            "    --cpu_brand on/off          Enable/Disable CPU brand in output.\n",
            "    --cpu_cores type            Whether or not to display the number of CPU cores\n",
            "                                Possible values: logical, physical, off\n",
            "\n",
            "                                NOTE: 'physical' doesn't work on BSD.\n",
            "\n",
            "    --cpu_speed on/off          Hide/Show cpu speed.\n",
            "    --cpu_temp C/F/off          Hide/Show cpu temperature.\n",
            "\n",
            "                                NOTE: This only works on Linux and BSD.\n",
            "\n",
            "                                NOTE: For FreeBSD and NetBSD-based systems, you need to enable\n",
            "                                coretemp kernel module. This only supports newer Intel processors.\n",
            "\n",
            "    --distro_shorthand on/off   Shorten the output of distro (on, tiny, off)\n",
            "\n",
            "                                NOTE: This option won't work in Windows (Cygwin)\n",
            "\n",
            "    --kernel_shorthand on/off   Shorten the output of kernel\n",
            "\n",
            "                                NOTE: This option won't work in BSDs (except PacBSD and PC-BSD)\n",
            "\n",
            "    --uptime_shorthand on/off   Shorten the output of uptime (on, tiny, off)\n",
            "    --refresh_rate on/off       Whether to display the refresh rate of each monitor\n",
            "                                Unsupported on Windows\n",
            "    --gpu_brand on/off          Enable/Disable GPU brand in output. (AMD/NVIDIA/Intel)\n",
            "    --gpu_type type             Which GPU to display. (all, dedicated, integrated)\n",
            "\n",
            "                                NOTE: This only supports Linux.\n",
            "\n",
            "    --de_version on/off         Show/Hide Desktop Environment version\n",
            "    --gtk_shorthand on/off      Shorten output of gtk theme/icons\n",
            "    --gtk2 on/off               Enable/Disable gtk2 theme/font/icons output\n",
            "    --gtk3 on/off               Enable/Disable gtk3 theme/font/icons output\n",
            "    --shell_path on/off         Enable/Disable showing $SHELL path\n",
            "    --shell_version on/off      Enable/Disable showing $SHELL version\n",
            "    --disk_show value           Which disks to display.\n",
            "                                Possible values: '/', '/dev/sdXX', '/path/to/mount point'\n",
            "\n",
            "                                NOTE: Multiple values can be given. (--disk_show '/' '/dev/sdc1')\n",
            "\n",
            "    --disk_subtitle type        What information to append to the Disk subtitle.\n",
            "                                Takes: name, mount, dir, none\n",
            "\n",
            "                                'name' shows the disk's name (sda1, sda2, etc)\n",
            "\n",
            "                                'mount' shows the disk's mount point (/, /mnt/Local Disk, etc)\n",
            "\n",
            "                                'dir' shows the basename of the disks's path. (/, Local Disk, etc)\n",
            "\n",
            "                                'none' shows only 'Disk' or the configured title.\n",
            "\n",
            "    --disk_percent on/off       Hide/Show disk percent.\n",
            "\n",
            "    --ip_host url               URL to query for public IP\n",
            "    --ip_timeout int            Public IP timeout (in seconds).\n",
            "    --song_format format        Print the song data in a specific format (see config file).\n",
            "    --song_shorthand on/off     Print the Artist/Album/Title on separate lines.\n",
            "    --memory_percent on/off     Display memory percentage.\n",
            "    --memory_unit kib/mib/gib   Memory output unit.\n",
            "    --music_player player-name  Manually specify a player to use.\n",
            "                                Available values are listed in the config file\n",
            "\n",
            "TEXT FORMATTING:\n",
            "    --colors x x x x x x        Changes the text colors in this order:\n",
            "                                title, @, underline, subtitle, colon, info\n",
            "    --underline on/off          Enable/Disable the underline.\n",
            "    --underline_char char       Character to use when underlining title\n",
            "    --bold on/off               Enable/Disable bold text\n",
            "    --separator string          Changes the default ':' separator to the specified string.\n",
            "\n",
            "COLOR BLOCKS:\n",
            "    --color_blocks on/off       Enable/Disable the color blocks\n",
            "    --col_offset auto/num      Left-padding of color blocks\n",
            "    --block_width num           Width of color blocks in spaces\n",
            "    --block_height num          Height of color blocks in lines\n",
            "    --block_range num num       Range of colors to print as blocks\n",
            "\n",
            "BARS:\n",
            "    --bar_char 'elapsed char' 'total char'\n",
            "                                Characters to use when drawing bars.\n",
            "    --bar_border on/off         Whether or not to surround the bar with '[]'\n",
            "    --bar_length num            Length in spaces to make the bars.\n",
            "    --bar_colors num num        Colors to make the bar.\n",
            "                                Set in this order: elapsed, total\n",
            "    --cpu_display mode          Bar mode.\n",
            "                                Possible values: bar, infobar, barinfo, off\n",
            "    --memory_display mode       Bar mode.\n",
            "                                Possible values: bar, infobar, barinfo, off\n",
            "    --battery_display mode      Bar mode.\n",
            "                                Possible values: bar, infobar, barinfo, off\n",
            "    --disk_display mode         Bar mode.\n",
            "                                Possible values: bar, infobar, barinfo, off\n",
            "\n",
            "IMAGE BACKEND:\n",
            "    --backend backend           Which image backend to use.\n",
            "                                Possible values: 'ascii', 'caca', 'chafa', 'jp2a', 'iterm2',\n",
            "                                'off', 'sixel', 'tycat', 'w3m', 'kitty'\n",
            "    --source source             Which image or ascii file to use.\n",
            "                                Possible values: 'auto', 'ascii', 'wallpaper', '/path/to/img',\n",
            "                                '/path/to/ascii', '/path/to/dir/', 'command output' [ascii]\n",
            "\n",
            "    --ascii source              Shortcut to use 'ascii' backend.\n",
            "\n",
            "                                NEW: neofetch --ascii \"$(fortune | cowsay -W 30)\"\n",
            "\n",
            "    --caca source               Shortcut to use 'caca' backend.\n",
            "    --chafa source              Shortcut to use 'chafa' backend.\n",
            "    --iterm2 source             Shortcut to use 'iterm2' backend.\n",
            "    --jp2a source               Shortcut to use 'jp2a' backend.\n",
            "    --kitty source              Shortcut to use 'kitty' backend.\n",
            "    --pot source                Shortcut to use 'pot' backend.\n",
            "    --pixterm source            Shortcut to use 'pixterm' backend.\n",
            "    --sixel source              Shortcut to use 'sixel' backend.\n",
            "    --termpix source            Shortcut to use 'termpix' backend.\n",
            "    --tycat source              Shortcut to use 'tycat' backend.\n",
            "    --w3m source                Shortcut to use 'w3m' backend.\n",
            "    --off                       Shortcut to use 'off' backend (Disable ascii art).\n",
            "\n",
            "    NOTE: 'source; can be any of the following: 'auto', 'ascii', 'wallpaper', '/path/to/img',\n",
            "    '/path/to/ascii', '/path/to/dir/'\n",
            "\n",
            "ASCII:\n",
            "    --ascii_colors x x x x x x  Colors to print the ascii art\n",
            "    --ascii_distro distro       Which Distro's ascii art to print\n",
            "\n",
            "                                NOTE: AIX, Alpine, AlterLinux, Anarchy, Android, Antergos, antiX,\n",
            "                                \"AOSC OS\", \"AOSC OS/Retro\", Apricity, ArcoLinux, ArchBox,\n",
            "                                ARCHlabs, ArchStrike, XFerience, ArchMerge, Arch, Artix, Arya,\n",
            "                                Bedrock, Bitrig, BlackArch, BLAG, BlankOn, BlueLight, bonsai, BSD,\n",
            "                                BunsenLabs, Calculate, Carbs, CentOS, Chakra, ChaletOS, Chapeau,\n",
            "                                Chrom, Cleanjaro, ClearOS, Clear_Linux, Clover, Condres,\n",
            "                                Container_Linux, CRUX, Cucumber, Debian, Deepin, DesaOS, Devuan,\n",
            "                                DracOS, DarkOs, DragonFly, Drauger, Elementary, EndeavourOS, Endless,\n",
            "                                EuroLinux, Exherbo, Fedora, Feren, FreeBSD, FreeMiNT, Frugalware,\n",
            "                                Funtoo, GalliumOS, Garuda, Gentoo, Pentoo, gNewSense, GNOME, GNU,\n",
            "                                GoboLinux, Grombyang, Guix, Haiku, Huayra, Hyperbola, janus, Kali,\n",
            "                                KaOS, KDE_neon, Kibojoe, Kogaion, Korora, KSLinux, Kubuntu, LEDE,\n",
            "                                LFS, Linux_Lite, LMDE, Lubuntu, Lunar, macos, Mageia, MagpieOS,\n",
            "                                Mandriva, Manjaro, Maui, Mer, Minix, LinuxMint, MX_Linux, Namib,\n",
            "                                Neptune, NetBSD, Netrunner, Nitrux, NixOS, Nurunner, NuTyX,\n",
            "                                OBRevenge, OpenBSD, openEuler, OpenIndiana, openmamba, OpenMandriva,\n",
            "                                OpenStage, OpenWrt, osmc, Oracle, OS Elbrus, PacBSD, Parabola,\n",
            "                                Pardus, Parrot, Parsix, TrueOS, PCLinuxOS, Peppermint, popos,\n",
            "                                Porteus, PostMarketOS, Proxmox, Puppy, PureOS, Qubes, Radix,\n",
            "                                Raspbian, Reborn_OS, Redstar, Redcore, Redhat, Refracted_Devuan,\n",
            "                                Regata, Rosa, sabotage, Sabayon, Sailfish, SalentOS, Scientific,\n",
            "                                Septor, SereneLinux, SharkLinux, Siduction, Slackware, SliTaz,\n",
            "                                SmartOS, Solus, Source_Mage, Sparky, Star, SteamOS, SunOS,\n",
            "                                openSUSE_Leap, openSUSE_Tumbleweed, openSUSE, SwagArch, Tails,\n",
            "                                Trisquel, Ubuntu-Budgie, Ubuntu-GNOME, Ubuntu-MATE, Ubuntu-Studio,\n",
            "                                Ubuntu, Venom, Void, Obarun, windows10, Windows7, Xubuntu, Zorin,\n",
            "                                and IRIX have ascii logos\n",
            "\n",
            "                                NOTE: Arch, Ubuntu, Redhat, and Dragonfly have 'old' logo variants.\n",
            "\n",
            "                                NOTE: Use '{distro name}_old' to use the old logos.\n",
            "\n",
            "                                NOTE: Ubuntu has flavor variants.\n",
            "\n",
            "                                NOTE: Change this to Lubuntu, Kubuntu, Xubuntu, Ubuntu-GNOME,\n",
            "                                Ubuntu-Studio, Ubuntu-Mate  or Ubuntu-Budgie to use the flavors.\n",
            "\n",
            "                                NOTE: Arcolinux, Dragonfly, Fedora, Alpine, Arch, Ubuntu,\n",
            "                                CRUX, Debian, Gentoo, FreeBSD, Mac, NixOS, OpenBSD, android,\n",
            "                                Antrix, CentOS, Cleanjaro, ElementaryOS, GUIX, Hyperbola,\n",
            "                                Manjaro, MXLinux, NetBSD, Parabola, POP_OS, PureOS,\n",
            "                                Slackware, SunOS, LinuxLite, OpenSUSE, Raspbian,\n",
            "                                postmarketOS, and Void have a smaller logo variant.\n",
            "\n",
            "                                NOTE: Use '{distro name}_small' to use the small variants.\n",
            "\n",
            "    --ascii_bold on/off         Whether or not to bold the ascii logo.\n",
            "    -L, --logo                  Hide the info text and only show the ascii logo.\n",
            "\n",
            "IMAGE:\n",
            "    --loop                      Redraw the image constantly until Ctrl+C is used. This fixes issues\n",
            "                                in some terminals emulators when using image mode.\n",
            "    --size 00px | --size 00%    How to size the image.\n",
            "                                Possible values: auto, 00px, 00%, none\n",
            "    --crop_mode mode            Which crop mode to use\n",
            "                                Takes the values: normal, fit, fill\n",
            "    --crop_offset value         Change the crop offset for normal mode.\n",
            "                                Possible values: northwest, north, northeast,\n",
            "                                west, center, east, southwest, south, southeast\n",
            "\n",
            "    --xoffset px                How close the image will be to the left edge of the\n",
            "                                window. This only works with w3m.\n",
            "    --yoffset px                How close the image will be to the top edge of the\n",
            "                                window. This only works with w3m.\n",
            "    --bg_color color            Background color to display behind transparent image.\n",
            "                                This only works with w3m.\n",
            "    --gap num                   Gap between image and text.\n",
            "\n",
            "                                NOTE: --gap can take a negative value which will move the text\n",
            "                                closer to the left side.\n",
            "\n",
            "    --clean                     Delete cached files and thumbnails.\n",
            "\n",
            "OTHER:\n",
            "    --config /path/to/config    Specify a path to a custom config file\n",
            "    --config none               Launch the script without a config file\n",
            "    --no_config                 Don't create the user config file.\n",
            "    --print_config              Print the default config file to stdout.\n",
            "    --stdout                    Turn off all colors and disables any ASCII/image backend.\n",
            "    --help                      Print this text and exit\n",
            "    --version                   Show neofetch version\n",
            "    -v                          Display error messages.\n",
            "    -vv                         Display a verbose log for error reporting.\n",
            "\n",
            "DEVELOPER:\n",
            "    --gen-man                   Generate a manpage for Neofetch in your PWD. (Requires GNU help2man)\n",
            "\n",
            "\n",
            "Report bugs to https://github.com/dylanaraps/neofetch/issues\n",
            "\n"
          ]
        }
      ]
    },
    {
      "cell_type": "code",
      "source": [
        "!neofetch --ascii_distro Clear_Linux"
      ],
      "metadata": {
        "colab": {
          "base_uri": "https://localhost:8080/"
        },
        "id": "8QK1Dpffw2Cc",
        "outputId": "950e82cb-2af5-4123-f685-b6b82a671fcf"
      },
      "execution_count": null,
      "outputs": [
        {
          "output_type": "stream",
          "name": "stdout",
          "text": [
            "\u001b[?25l\u001b[?7l\u001b[0m\u001b[34m\u001b[1m          BBB\n",
            "       BBBBBBBBB\n",
            "     BBBBBBBBBBBBBBB\n",
            "   BBBBBBBBBBBBBBBBBBBB\n",
            "   BBBBBBBBBBB         BBB\n",
            "  BBBBBBBB\u001b[0m\u001b[33m\u001b[1mYYYYY\n",
            "\u001b[0m\u001b[34m\u001b[1m  BBBBBBBB\u001b[0m\u001b[33m\u001b[1mYYYYYY\n",
            "\u001b[0m\u001b[34m\u001b[1m  BBBBBBBB\u001b[0m\u001b[33m\u001b[1mYYYYYYY\n",
            "\u001b[0m\u001b[34m\u001b[1m  BBBBBBBBB\u001b[0m\u001b[33m\u001b[1mYYYYY\u001b[37m\u001b[0m\u001b[1mW\n",
            "\u001b[0m\u001b[36m\u001b[1m GG\u001b[0m\u001b[34m\u001b[1mBBBBBBBY\u001b[0m\u001b[33m\u001b[1mYYYY\u001b[37m\u001b[0m\u001b[1mWWW\n",
            "\u001b[0m\u001b[36m\u001b[1m GGG\u001b[0m\u001b[34m\u001b[1mBBBBBBB\u001b[0m\u001b[33m\u001b[1mYY\u001b[37m\u001b[0m\u001b[1mWWWWWWWW\n",
            "\u001b[0m\u001b[36m\u001b[1m GGGGGG\u001b[0m\u001b[34m\u001b[1mBBBBBB\u001b[37m\u001b[0m\u001b[1mWWWWWWWW\n",
            "\u001b[0m\u001b[36m\u001b[1m GGGGGGGG\u001b[0m\u001b[34m\u001b[1mBBBB\u001b[37m\u001b[0m\u001b[1mWWWWWWWW\n",
            "\u001b[0m\u001b[36m\u001b[1mGGGGGGGGGGG\u001b[0m\u001b[34m\u001b[1mBBB\u001b[37m\u001b[0m\u001b[1mWWWWWWW\n",
            "\u001b[0m\u001b[36m\u001b[1mGGGGGGGGGGGGG\u001b[0m\u001b[34m\u001b[1mB\u001b[37m\u001b[0m\u001b[1mWWWWWW\n",
            "\u001b[0m\u001b[36m\u001b[1mGGGGGGGG\u001b[37m\u001b[0m\u001b[1mWWWWWWWWWWW\n",
            "\u001b[0m\u001b[36m\u001b[1mGG\u001b[37m\u001b[0m\u001b[1mWWWWWWWWWWWWWWWW\n",
            " WWWWWWWWWWWWWWWW\n",
            "      WWWWWWWWWW\n",
            "          WWW\u001b[0m\n",
            "\u001b[20A\u001b[9999999D\u001b[29C\u001b[0m\u001b[1m\u001b[34m\u001b[1mroot\u001b[0m@\u001b[34m\u001b[1m3edd1e5b468c\u001b[0m \n",
            "\u001b[29C\u001b[0m-----------------\u001b[0m \n",
            "\u001b[29C\u001b[0m\u001b[33m\u001b[1mOS\u001b[0m\u001b[0m:\u001b[0m Ubuntu 22.04.3 LTS x86_64\u001b[0m \n",
            "\u001b[29C\u001b[0m\u001b[33m\u001b[1mHost\u001b[0m\u001b[0m:\u001b[0m Google Compute Engine\u001b[0m \n",
            "\u001b[29C\u001b[0m\u001b[33m\u001b[1mKernel\u001b[0m\u001b[0m:\u001b[0m 6.1.58+\u001b[0m \n",
            "\u001b[29C\u001b[0m\u001b[33m\u001b[1mUptime\u001b[0m\u001b[0m:\u001b[0m 18 mins\u001b[0m \n",
            "\u001b[29C\u001b[0m\u001b[33m\u001b[1mPackages\u001b[0m\u001b[0m:\u001b[0m 1301 (dpkg)\u001b[0m \n",
            "\u001b[29C\u001b[0m\u001b[33m\u001b[1mShell\u001b[0m\u001b[0m:\u001b[0m bash 5.1.16\u001b[0m \n",
            "\u001b[29C\u001b[0m\u001b[33m\u001b[1mTerminal\u001b[0m\u001b[0m:\u001b[0m jupyter-noteboo\u001b[0m \n",
            "\u001b[29C\u001b[0m\u001b[33m\u001b[1mCPU\u001b[0m\u001b[0m:\u001b[0m Intel Xeon (2) @ 2.199GHz\u001b[0m \n",
            "\u001b[29C\u001b[0m\u001b[33m\u001b[1mMemory\u001b[0m\u001b[0m:\u001b[0m 618MiB / 12978MiB\u001b[0m \n",
            "\n",
            "\u001b[29C\u001b[30m\u001b[40m   \u001b[31m\u001b[41m   \u001b[32m\u001b[42m   \u001b[33m\u001b[43m   \u001b[34m\u001b[44m   \u001b[35m\u001b[45m   \u001b[36m\u001b[46m   \u001b[37m\u001b[47m   \u001b[m\n",
            "\u001b[29C\u001b[38;5;8m\u001b[48;5;8m   \u001b[38;5;9m\u001b[48;5;9m   \u001b[38;5;10m\u001b[48;5;10m   \u001b[38;5;11m\u001b[48;5;11m   \u001b[38;5;12m\u001b[48;5;12m   \u001b[38;5;13m\u001b[48;5;13m   \u001b[38;5;14m\u001b[48;5;14m   \u001b[38;5;15m\u001b[48;5;15m   \u001b[m\n",
            "\n",
            "\n",
            "\n",
            "\n",
            "\n",
            "\n",
            "\n",
            "\u001b[?25h\u001b[?7h"
          ]
        }
      ]
    },
    {
      "cell_type": "code",
      "source": [
        "!sudo"
      ],
      "metadata": {
        "colab": {
          "base_uri": "https://localhost:8080/"
        },
        "id": "yxb9BlhYyXMj",
        "outputId": "9f1ee77f-1413-42a0-d9c5-6fd1b695ffe2"
      },
      "execution_count": null,
      "outputs": [
        {
          "output_type": "stream",
          "name": "stdout",
          "text": [
            "usage: sudo -h | -K | -k | -V\n",
            "usage: sudo -v [-ABknS] [-g group] [-h host] [-p prompt] [-u user]\n",
            "usage: sudo -l [-ABknS] [-g group] [-h host] [-p prompt] [-U user] [-u user] [command]\n",
            "usage: sudo [-ABbEHknPS] [-r role] [-t type] [-C num] [-D directory] [-g group] [-h host] [-p\n",
            "            prompt] [-R directory] [-T timeout] [-u user] [VAR=value] [-i|-s] [<command>]\n",
            "usage: sudo -e [-ABknS] [-r role] [-t type] [-C num] [-D directory] [-g group] [-h host] [-p\n",
            "            prompt] [-R directory] [-T timeout] [-u user] file ...\n"
          ]
        }
      ]
    },
    {
      "cell_type": "code",
      "source": [
        "!apt install bettercap"
      ],
      "metadata": {
        "colab": {
          "base_uri": "https://localhost:8080/"
        },
        "id": "I_jddUulyhmK",
        "outputId": "cf37bfe8-2905-4841-dfe3-562f1413e8f2"
      },
      "execution_count": null,
      "outputs": [
        {
          "output_type": "stream",
          "name": "stdout",
          "text": [
            "Reading package lists... Done\n",
            "Building dependency tree... Done\n",
            "Reading state information... Done\n",
            "The following additional packages will be installed:\n",
            "  iptables iw libip6tc2 libnetfilter-conntrack3 libnetfilter-queue1 libnfnetlink0 libnftnl11\n",
            "  libnl-genl-3-200 libpcap0.8 netbase wireless-regdb\n",
            "Suggested packages:\n",
            "  firewalld nftables\n",
            "The following NEW packages will be installed:\n",
            "  bettercap iptables iw libip6tc2 libnetfilter-conntrack3 libnetfilter-queue1 libnfnetlink0\n",
            "  libnftnl11 libnl-genl-3-200 libpcap0.8 netbase wireless-regdb\n",
            "0 upgraded, 12 newly installed, 0 to remove and 35 not upgraded.\n",
            "Need to get 8,284 kB of archives.\n",
            "After this operation, 28.8 MB of additional disk space will be used.\n",
            "Get:1 http://archive.ubuntu.com/ubuntu jammy/main amd64 netbase all 6.3 [12.9 kB]\n",
            "Get:2 http://archive.ubuntu.com/ubuntu jammy-updates/main amd64 libip6tc2 amd64 1.8.7-1ubuntu5.2 [20.3 kB]\n",
            "Get:3 http://archive.ubuntu.com/ubuntu jammy/main amd64 libnfnetlink0 amd64 1.0.1-3build3 [14.6 kB]\n",
            "Get:4 http://archive.ubuntu.com/ubuntu jammy/main amd64 libnetfilter-conntrack3 amd64 1.0.9-1 [45.3 kB]\n",
            "Get:5 http://archive.ubuntu.com/ubuntu jammy/main amd64 libnftnl11 amd64 1.2.1-1build1 [65.5 kB]\n",
            "Get:6 http://archive.ubuntu.com/ubuntu jammy-updates/main amd64 iptables amd64 1.8.7-1ubuntu5.2 [455 kB]\n",
            "Get:7 http://archive.ubuntu.com/ubuntu jammy/main amd64 libpcap0.8 amd64 1.10.1-4build1 [145 kB]\n",
            "Get:8 http://archive.ubuntu.com/ubuntu jammy/main amd64 libnl-genl-3-200 amd64 3.5.0-0.1 [12.4 kB]\n",
            "Get:9 http://archive.ubuntu.com/ubuntu jammy/main amd64 iw amd64 5.16-1build1 [108 kB]\n",
            "Get:10 http://archive.ubuntu.com/ubuntu jammy/universe amd64 libnetfilter-queue1 amd64 1.0.5-2 [14.4 kB]\n",
            "Get:11 http://archive.ubuntu.com/ubuntu jammy-updates/universe amd64 bettercap amd64 2.32.0-1ubuntu0.22.04.2 [7,380 kB]\n",
            "Get:12 http://archive.ubuntu.com/ubuntu jammy-updates/main amd64 wireless-regdb all 2022.06.06-0ubuntu1~22.04.1 [10.3 kB]\n",
            "Fetched 8,284 kB in 1s (14.5 MB/s)\n",
            "Selecting previously unselected package netbase.\n",
            "(Reading database ... 124180 files and directories currently installed.)\n",
            "Preparing to unpack .../00-netbase_6.3_all.deb ...\n",
            "Unpacking netbase (6.3) ...\n",
            "Selecting previously unselected package libip6tc2:amd64.\n",
            "Preparing to unpack .../01-libip6tc2_1.8.7-1ubuntu5.2_amd64.deb ...\n",
            "Unpacking libip6tc2:amd64 (1.8.7-1ubuntu5.2) ...\n",
            "Selecting previously unselected package libnfnetlink0:amd64.\n",
            "Preparing to unpack .../02-libnfnetlink0_1.0.1-3build3_amd64.deb ...\n",
            "Unpacking libnfnetlink0:amd64 (1.0.1-3build3) ...\n",
            "Selecting previously unselected package libnetfilter-conntrack3:amd64.\n",
            "Preparing to unpack .../03-libnetfilter-conntrack3_1.0.9-1_amd64.deb ...\n",
            "Unpacking libnetfilter-conntrack3:amd64 (1.0.9-1) ...\n",
            "Selecting previously unselected package libnftnl11:amd64.\n",
            "Preparing to unpack .../04-libnftnl11_1.2.1-1build1_amd64.deb ...\n",
            "Unpacking libnftnl11:amd64 (1.2.1-1build1) ...\n",
            "Selecting previously unselected package iptables.\n",
            "Preparing to unpack .../05-iptables_1.8.7-1ubuntu5.2_amd64.deb ...\n",
            "Unpacking iptables (1.8.7-1ubuntu5.2) ...\n",
            "Selecting previously unselected package libpcap0.8:amd64.\n",
            "Preparing to unpack .../06-libpcap0.8_1.10.1-4build1_amd64.deb ...\n",
            "Unpacking libpcap0.8:amd64 (1.10.1-4build1) ...\n",
            "Selecting previously unselected package libnl-genl-3-200:amd64.\n",
            "Preparing to unpack .../07-libnl-genl-3-200_3.5.0-0.1_amd64.deb ...\n",
            "Unpacking libnl-genl-3-200:amd64 (3.5.0-0.1) ...\n",
            "Selecting previously unselected package iw.\n",
            "Preparing to unpack .../08-iw_5.16-1build1_amd64.deb ...\n",
            "Unpacking iw (5.16-1build1) ...\n",
            "Selecting previously unselected package libnetfilter-queue1:amd64.\n",
            "Preparing to unpack .../09-libnetfilter-queue1_1.0.5-2_amd64.deb ...\n",
            "Unpacking libnetfilter-queue1:amd64 (1.0.5-2) ...\n",
            "Selecting previously unselected package bettercap.\n",
            "Preparing to unpack .../10-bettercap_2.32.0-1ubuntu0.22.04.2_amd64.deb ...\n",
            "Unpacking bettercap (2.32.0-1ubuntu0.22.04.2) ...\n",
            "Selecting previously unselected package wireless-regdb.\n",
            "Preparing to unpack .../11-wireless-regdb_2022.06.06-0ubuntu1~22.04.1_all.deb ...\n",
            "Unpacking wireless-regdb (2022.06.06-0ubuntu1~22.04.1) ...\n",
            "Setting up libip6tc2:amd64 (1.8.7-1ubuntu5.2) ...\n",
            "Setting up wireless-regdb (2022.06.06-0ubuntu1~22.04.1) ...\n",
            "Setting up libnftnl11:amd64 (1.2.1-1build1) ...\n",
            "Setting up libpcap0.8:amd64 (1.10.1-4build1) ...\n",
            "Setting up libnfnetlink0:amd64 (1.0.1-3build3) ...\n",
            "Setting up libnl-genl-3-200:amd64 (3.5.0-0.1) ...\n",
            "Setting up netbase (6.3) ...\n",
            "Setting up iw (5.16-1build1) ...\n",
            "Setting up libnetfilter-queue1:amd64 (1.0.5-2) ...\n",
            "Setting up libnetfilter-conntrack3:amd64 (1.0.9-1) ...\n",
            "Setting up iptables (1.8.7-1ubuntu5.2) ...\n",
            "update-alternatives: using /usr/sbin/iptables-legacy to provide /usr/sbin/iptables (iptables) in auto mode\n",
            "update-alternatives: using /usr/sbin/ip6tables-legacy to provide /usr/sbin/ip6tables (ip6tables) in auto mode\n",
            "update-alternatives: using /usr/sbin/iptables-nft to provide /usr/sbin/iptables (iptables) in auto mode\n",
            "update-alternatives: using /usr/sbin/ip6tables-nft to provide /usr/sbin/ip6tables (ip6tables) in auto mode\n",
            "update-alternatives: using /usr/sbin/arptables-nft to provide /usr/sbin/arptables (arptables) in auto mode\n",
            "update-alternatives: using /usr/sbin/ebtables-nft to provide /usr/sbin/ebtables (ebtables) in auto mode\n",
            "Setting up bettercap (2.32.0-1ubuntu0.22.04.2) ...\n",
            "Created symlink /etc/systemd/system/multi-user.target.wants/bettercap.service → /lib/systemd/system/bettercap.service.\n",
            "Processing triggers for libc-bin (2.35-0ubuntu3.4) ...\n",
            "/sbin/ldconfig.real: /usr/local/lib/libtbbbind_2_5.so.3 is not a symbolic link\n",
            "\n",
            "/sbin/ldconfig.real: /usr/local/lib/libtbbbind.so.3 is not a symbolic link\n",
            "\n",
            "/sbin/ldconfig.real: /usr/local/lib/libtbbbind_2_0.so.3 is not a symbolic link\n",
            "\n",
            "/sbin/ldconfig.real: /usr/local/lib/libtbbmalloc.so.2 is not a symbolic link\n",
            "\n",
            "/sbin/ldconfig.real: /usr/local/lib/libtbbmalloc_proxy.so.2 is not a symbolic link\n",
            "\n",
            "/sbin/ldconfig.real: /usr/local/lib/libtbb.so.12 is not a symbolic link\n",
            "\n",
            "Processing triggers for man-db (2.10.2-1) ...\n"
          ]
        }
      ]
    },
    {
      "cell_type": "code",
      "source": [
        "!sudo bettercap"
      ],
      "metadata": {
        "colab": {
          "base_uri": "https://localhost:8080/"
        },
        "id": "IcmDXAyhyqGF",
        "outputId": "71122ba1-569b-4ffe-a0ca-ad97c6291734"
      },
      "execution_count": null,
      "outputs": [
        {
          "output_type": "stream",
          "name": "stdout",
          "text": [
            "\u001b[1mbettercap v2.32.0\u001b[0m \u001b[2m(built for linux amd64 with go1.18.1)\u001b[0m [type '\u001b[1mhelp\u001b[0m' for a list of commands]\n",
            "\n",
            "\b\u001b[J\u001b[43m\u001b[97m172.28.0.0/16 \u001b[30m> 172.28.0.12 \u001b[0m \u001b[1m» \u001b[0m\u001b[0m \b[09:56:36] [\u001b[32msys.log\u001b[0m] [\u001b[97m\u001b[43mwar\u001b[0m] Could not find mac for \n",
            "\b\u001b[J\u001b[43m\u001b[97m172.28.0.0/16 \u001b[30m> 172.28.0.12 \u001b[0m \u001b[1m» \u001b[0m\u001b[0mnet.probe on\n",
            " \b[09:56:59] [\u001b[32msys.log\u001b[0m] [\u001b[97m\u001b[42minf\u001b[0m] \u001b[104m\u001b[30mnet.probe\u001b[0m\u001b[0m starting net.recon as a requirement for net.probe\n",
            "\b\u001b[J\u001b[43m\u001b[97m172.28.0.0/16 \u001b[30m> 172.28.0.12 \u001b[0m \u001b[1m» \u001b[0m\u001b[0m \b[09:56:59] [\u001b[32mendpoint.new\u001b[0m] endpoint \u001b[1m172.28.0.1\u001b[0m\u001b[2m\u001b[0m detected as \u001b[32m02:42:c2:98:46:d6\u001b[0m\u001b[2m\u001b[0m.\n",
            "\b\u001b[J\u001b[43m\u001b[97m172.28.0.0/16 \u001b[30m> 172.28.0.12 \u001b[0m \u001b[1m» \u001b[0m\u001b[0m \b[09:57:00] [\u001b[32msys.log\u001b[0m] [\u001b[97m\u001b[42minf\u001b[0m] \u001b[104m\u001b[30mnet.probe\u001b[0m\u001b[0m probing 65536 addresses on 172.28.0.0/16\n",
            "\b\u001b[J\u001b[43m\u001b[97m172.28.0.0/16 \u001b[30m> 172.28.0.12 \u001b[0m \u001b[1m» \u001b[0m\u001b[0mnet.show\n",
            " \b\n",
            "┌─────────────┬───────────────────┬──────┬────────┬───────┬───────┬──────────┐\n",
            "│    IP \u001b[34m▴\u001b[0m     │        MAC        │ Name │ Vendor │ Sent  │ Recvd │   Seen   │\n",
            "├─────────────┼───────────────────┼──────┼────────┼───────┼───────┼──────────┤\n",
            "│ 172.28.0.12 │ 02:42:ac:1c:00:0c │ eth0 │ \u001b[2m\u001b[0m       │ 0 B   │ 0 B   │ \u001b[2m09:56:36\u001b[0m │\n",
            "│             │                   │      │        │       │       │          │\n",
            "│ 172.28.0.1  │ 02:42:c2:98:46:d6 │      │ \u001b[2m\u001b[0m       │ 33 kB │ 29 kB │ \u001b[1m09:57:38\u001b[0m │\n",
            "└─────────────┴───────────────────┴──────┴────────┴───────┴───────┴──────────┘\n",
            "\n",
            "\u001b[31m↑\u001b[0m 105 kB / \u001b[32m↓\u001b[0m 17 MB / 201116 pkts\n",
            "\n",
            "\b\u001b[J\u001b[43m\u001b[97m172.28.0.0/16 \u001b[30m> 172.28.0.12 \u001b[0m \u001b[1m» \u001b[0m\u001b[0mnet.sniff\n",
            "\b\u001b[J\u001b[43m\u001b[97m172.28.0.0/16 \u001b[30m> 172.28.0.12 \u001b[0m \u001b[1m» \u001b[0m\u001b[0m \b[10:09:06] [\u001b[32msys.log\u001b[0m] [\u001b[97m\u001b[41merr\u001b[0m] unknown or invalid syntax \"\u001b[1mnet.sniff\u001b[0m\", type \u001b[1mhelp\u001b[0m for the help menu.\n",
            "\b\u001b[J\u001b[43m\u001b[97m172.28.0.0/16 \u001b[30m> 172.28.0.12 \u001b[0m \u001b[1m» \u001b[0m\u001b[0mnet help\n",
            "\b\u001b[J\u001b[43m\u001b[97m172.28.0.0/16 \u001b[30m> 172.28.0.12 \u001b[0m \u001b[1m» \u001b[0m\u001b[0m \b[10:11:15] [\u001b[32msys.log\u001b[0m] [\u001b[97m\u001b[41merr\u001b[0m] unknown or invalid syntax \"\u001b[1mnet help\u001b[0m\", type \u001b[1mhelp\u001b[0m for the help menu.\n",
            "\b\u001b[J\u001b[43m\u001b[97m172.28.0.0/16 \u001b[30m> 172.28.0.12 \u001b[0m \u001b[1m» \u001b[0m\u001b[0mhepl\n",
            "\b\u001b[J\u001b[43m\u001b[97m172.28.0.0/16 \u001b[30m> 172.28.0.12 \u001b[0m \u001b[1m» \u001b[0m\u001b[0m \b[10:11:19] [\u001b[32msys.log\u001b[0m] [\u001b[97m\u001b[41merr\u001b[0m] unknown or invalid syntax \"\u001b[1mhepl\u001b[0m\", type \u001b[1mhelp\u001b[0m for the help menu.\n",
            "\b\u001b[J\u001b[43m\u001b[97m172.28.0.0/16 \u001b[30m> 172.28.0.12 \u001b[0m \u001b[1m» \u001b[0m\u001b[0mhelp\n",
            " \b\n",
            "  \u001b[33m         help MODULE\u001b[0m : List available commands or show module specific help if no module name is provided.\n",
            "  \u001b[33m              active\u001b[0m : Show information about active modules.\n",
            "  \u001b[33m                quit\u001b[0m : Close the session and exit.\n",
            "  \u001b[33m       sleep SECONDS\u001b[0m : Sleep for the given amount of seconds.\n",
            "  \u001b[33m            get NAME\u001b[0m : Get the value of variable NAME, use * alone for all, or NAME* as a wildcard.\n",
            "  \u001b[33m      set NAME VALUE\u001b[0m : Set the VALUE of variable NAME.\n",
            "  \u001b[33mread VARIABLE PROMPT\u001b[0m : Show a PROMPT to ask the user for input that will be saved inside VARIABLE.\n",
            "  \u001b[33m               clear\u001b[0m : Clear the screen.\n",
            "  \u001b[33m      include CAPLET\u001b[0m : Load and run this caplet in the current session.\n",
            "  \u001b[33m           ! COMMAND\u001b[0m : Execute a shell command and print its output.\n",
            "  \u001b[33m      alias MAC NAME\u001b[0m : Assign an alias to a given endpoint given its MAC address.\n",
            "\u001b[1m\n",
            "Modules\n",
            "\u001b[0m\n",
            "  \u001b[33m    any.proxy\u001b[0m > \u001b[31mnot running\u001b[0m\n",
            "  \u001b[33m     api.rest\u001b[0m > \u001b[31mnot running\u001b[0m\n",
            "  \u001b[33m    arp.spoof\u001b[0m > \u001b[31mnot running\u001b[0m\n",
            "  \u001b[33m           c2\u001b[0m > \u001b[31mnot running\u001b[0m\n",
            "  \u001b[33m      caplets\u001b[0m > \u001b[31mnot running\u001b[0m\n",
            "  \u001b[33m  dhcp6.spoof\u001b[0m > \u001b[31mnot running\u001b[0m\n",
            "  \u001b[33m    dns.spoof\u001b[0m > \u001b[31mnot running\u001b[0m\n",
            "  \u001b[33mevents.stream\u001b[0m > \u001b[32mrunning\u001b[0m\n",
            "  \u001b[33m          hid\u001b[0m > \u001b[31mnot running\u001b[0m\n",
            "  \u001b[33m   http.proxy\u001b[0m > \u001b[31mnot running\u001b[0m\n",
            "  \u001b[33m  http.server\u001b[0m > \u001b[31mnot running\u001b[0m\n",
            "  \u001b[33m  https.proxy\u001b[0m > \u001b[31mnot running\u001b[0m\n",
            "  \u001b[33m https.server\u001b[0m > \u001b[31mnot running\u001b[0m\n",
            "  \u001b[33m  mac.changer\u001b[0m > \u001b[31mnot running\u001b[0m\n",
            "  \u001b[33m  mdns.server\u001b[0m > \u001b[31mnot running\u001b[0m\n",
            "  \u001b[33m mysql.server\u001b[0m > \u001b[31mnot running\u001b[0m\n",
            "  \u001b[33m    ndp.spoof\u001b[0m > \u001b[31mnot running\u001b[0m\n",
            "  \u001b[33m    net.probe\u001b[0m > \u001b[32mrunning\u001b[0m\n",
            "  \u001b[33m    net.recon\u001b[0m > \u001b[32mrunning\u001b[0m\n",
            "  \u001b[33m    net.sniff\u001b[0m > \u001b[31mnot running\u001b[0m\n",
            "  \u001b[33m packet.proxy\u001b[0m > \u001b[31mnot running\u001b[0m\n",
            "  \u001b[33m     syn.scan\u001b[0m > \u001b[31mnot running\u001b[0m\n",
            "  \u001b[33m    tcp.proxy\u001b[0m > \u001b[31mnot running\u001b[0m\n",
            "  \u001b[33m       ticker\u001b[0m > \u001b[31mnot running\u001b[0m\n",
            "  \u001b[33m           ui\u001b[0m > \u001b[31mnot running\u001b[0m\n",
            "  \u001b[33m       update\u001b[0m > \u001b[31mnot running\u001b[0m\n",
            "  \u001b[33m         wifi\u001b[0m > \u001b[31mnot running\u001b[0m\n",
            "  \u001b[33m          wol\u001b[0m > \u001b[31mnot running\u001b[0m\n",
            "\n",
            "\b\u001b[J\u001b[43m\u001b[97m172.28.0.0/16 \u001b[30m> 172.28.0.12 \u001b[0m \u001b[1m» \u001b[0m\u001b[0mdns.spoof\n",
            "\b\u001b[J\u001b[43m\u001b[97m172.28.0.0/16 \u001b[30m> 172.28.0.12 \u001b[0m \u001b[1m» \u001b[0m\u001b[0m \b[10:12:11] [\u001b[32msys.log\u001b[0m] [\u001b[97m\u001b[41merr\u001b[0m] unknown or invalid syntax \"\u001b[1mdns.spoof\u001b[0m\", type \u001b[1mhelp\u001b[0m for the help menu.\n",
            "\b\u001b[J\u001b[43m\u001b[97m172.28.0.0/16 \u001b[30m> 172.28.0.12 \u001b[0m \u001b[1m» \u001b[0m\u001b[0mdns.spoof 172.28.0.1\n",
            "\b\u001b[J\u001b[43m\u001b[97m172.28.0.0/16 \u001b[30m> 172.28.0.12 \u001b[0m \u001b[1m» \u001b[0m\u001b[0m \b[10:13:03] [\u001b[32msys.log\u001b[0m] [\u001b[97m\u001b[41merr\u001b[0m] unknown or invalid syntax \"\u001b[1mdns.spoof 172.28.0.1\u001b[0m\", type \u001b[1mhelp\u001b[0m for the help menu.\n",
            "\b\u001b[J\u001b[43m\u001b[97m172.28.0.0/16 \u001b[30m> 172.28.0.12 \u001b[0m \u001b[1m» \u001b[0m\u001b[0mdns.spoof.172.28.0.1\n",
            "\b\u001b[J\u001b[43m\u001b[97m172.28.0.0/16 \u001b[30m> 172.28.0.12 \u001b[0m \u001b[1m» \u001b[0m\u001b[0m \b[10:13:56] [\u001b[32msys.log\u001b[0m] [\u001b[97m\u001b[41merr\u001b[0m] unknown or invalid syntax \"\u001b[1mdns.spoof.172.28.0.1\u001b[0m\", type \u001b[1mhelp\u001b[0m for the help menu.\n",
            "\b\u001b[J\u001b[43m\u001b[97m172.28.0.0/16 \u001b[30m> 172.28.0.12 \u001b[0m \u001b[1m» \u001b[0m\u001b[0mset dns.spoof on\n",
            "\b\u001b[J\u001b[43m\u001b[97m172.28.0.0/16 \u001b[30m> 172.28.0.12 \u001b[0m \u001b[1m» \u001b[0m\u001b[0mset dns.spoof adress 172.28.0.1\n",
            "\b\u001b[J\u001b[43m\u001b[97m172.28.0.0/16 \u001b[30m> 172.28.0.12 \u001b[0m \u001b[1m» \u001b[0m\u001b[0mdns.spoof address 172.28.0.1\n",
            "\b\u001b[J\u001b[43m\u001b[97m172.28.0.0/16 \u001b[30m> 172.28.0.12 \u001b[0m \u001b[1m» \u001b[0m\u001b[0m \b[10:19:05] [\u001b[32msys.log\u001b[0m] [\u001b[97m\u001b[41merr\u001b[0m] unknown or invalid syntax \"\u001b[1mdns.spoof address 172.28.0.1\u001b[0m\", type \u001b[1mhelp\u001b[0m for the help menu.\n",
            "\b\u001b[J\u001b[43m\u001b[97m172.28.0.0/16 \u001b[30m> 172.28.0.12 \u001b[0m \u001b[1m» \u001b[0m\u001b[0mnet.shoe\n",
            "\b\u001b[J\u001b[43m\u001b[97m172.28.0.0/16 \u001b[30m> 172.28.0.12 \u001b[0m \u001b[1m» \u001b[0m\u001b[0m \b[10:19:25] [\u001b[32msys.log\u001b[0m] [\u001b[97m\u001b[41merr\u001b[0m] unknown or invalid syntax \"\u001b[1mnet.shoe\u001b[0m\", type \u001b[1mhelp\u001b[0m for the help menu.\n",
            "\b\u001b[J\u001b[43m\u001b[97m172.28.0.0/16 \u001b[30m> 172.28.0.12 \u001b[0m \u001b[1m» \u001b[0m\u001b[0mnet.show\n",
            " \b\n",
            "┌─────────────┬───────────────────┬──────┬────────┬────────┬────────┬──────────┐\n",
            "│    IP \u001b[34m▴\u001b[0m     │        MAC        │ Name │ Vendor │  Sent  │ Recvd  │   Seen   │\n",
            "├─────────────┼───────────────────┼──────┼────────┼────────┼────────┼──────────┤\n",
            "│ 172.28.0.12 │ 02:42:ac:1c:00:0c │ eth0 │ \u001b[2m\u001b[0m       │ 0 B    │ 0 B    │ \u001b[2m09:56:36\u001b[0m │\n",
            "│             │                   │      │        │        │        │          │\n",
            "│ 172.28.0.1  │ 02:42:c2:98:46:d6 │      │ \u001b[2m\u001b[0m       │ 390 kB │ 455 kB │ \u001b[1m10:19:43\u001b[0m │\n",
            "└─────────────┴───────────────────┴──────┴────────┴────────┴────────┴──────────┘\n",
            "\n",
            "\u001b[31m↑\u001b[0m 3.6 MB / \u001b[32m↓\u001b[0m 584 MB / 7014665 pkts\n",
            "\n",
            "\b\u001b[J\u001b[43m\u001b[97m172.28.0.0/16 \u001b[30m> 172.28.0.12 \u001b[0m \u001b[1m» \u001b[0m\u001b[0m \b"
          ]
        }
      ]
    },
    {
      "cell_type": "code",
      "source": [],
      "metadata": {
        "id": "B6CqOsdfzaM_"
      },
      "execution_count": null,
      "outputs": []
    }
  ]
}