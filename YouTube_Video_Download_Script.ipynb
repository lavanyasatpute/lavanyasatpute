{
  "nbformat": 4,
  "nbformat_minor": 0,
  "metadata": {
    "colab": {
      "provenance": [],
      "authorship_tag": "ABX9TyPbAZeFaVzs3UO7OcTb4vj1",
      "include_colab_link": true
    },
    "kernelspec": {
      "name": "python3",
      "display_name": "Python 3"
    },
    "language_info": {
      "name": "python"
    }
  },
  "cells": [
    {
      "cell_type": "markdown",
      "metadata": {
        "id": "view-in-github",
        "colab_type": "text"
      },
      "source": [
        "<a href=\"https://colab.research.google.com/github/lavanyasatpute/lavanyasatpute/blob/main/YouTube_Video_Download_Script.ipynb\" target=\"_parent\"><img src=\"https://colab.research.google.com/assets/colab-badge.svg\" alt=\"Open In Colab\"/></a>"
      ]
    },
    {
      "cell_type": "code",
      "execution_count": null,
      "metadata": {
        "colab": {
          "base_uri": "https://localhost:8080/"
        },
        "id": "WIk4NjrTvQ6r",
        "outputId": "c212bb64-d2fa-4328-ea45-f9e5f47e0477"
      },
      "outputs": [
        {
          "output_type": "stream",
          "name": "stdout",
          "text": [
            "Requirement already satisfied: yt_dlp in /usr/local/lib/python3.10/dist-packages (2024.12.13)\n"
          ]
        }
      ],
      "source": [
        "!pip install yt_dlp"
      ]
    },
    {
      "cell_type": "code",
      "source": [
        "import requests\n",
        "\n",
        "def download_youtube_video(url):\n",
        "    try:\n",
        "        # Using 'yt-dlp' as an alternative library to download videos\n",
        "        import yt_dlp\n",
        "\n",
        "        # Set download options\n",
        "        ydl_opts = {\n",
        "            'format': 'bestvideo[height<=2160]+bestaudio/best[height<=2160]',\n",
        "            'outtmpl': './%(title)s.%(ext)s',  # Save file in the current directory with title as the filename\n",
        "        }\n",
        "\n",
        "        print(\"Downloading...\")\n",
        "        with yt_dlp.YoutubeDL(ydl_opts) as ydl:\n",
        "            ydl.download([url])\n",
        "\n",
        "        print(\"Download completed!\")\n",
        "\n",
        "    except Exception as e:\n",
        "        print(f\"An error occurred: {e}\")\n",
        "\n",
        "# Example usage\n",
        "if __name__ == \"__main__\":\n",
        "    video_url = input(\"Enter the YouTube video URL: \")\n",
        "    download_youtube_video(video_url)\n"
      ],
      "metadata": {
        "colab": {
          "base_uri": "https://localhost:8080/"
        },
        "id": "w07-alCbvWuy",
        "outputId": "9681d28f-f684-4870-fdd5-43961651d29e"
      },
      "execution_count": null,
      "outputs": [
        {
          "output_type": "stream",
          "name": "stdout",
          "text": [
            "Enter the YouTube video URL: https://www.youtube.com/live/KB7JEnfc7Dc?si=Ajhp7AnvqGAaF2hW\n",
            "Downloading...\n",
            "[youtube] Extracting URL: https://www.youtube.com/live/KB7JEnfc7Dc?si=Ajhp7AnvqGAaF2hW\n",
            "[youtube] KB7JEnfc7Dc: Downloading webpage\n",
            "[youtube] KB7JEnfc7Dc: Downloading ios player API JSON\n",
            "[youtube] KB7JEnfc7Dc: Downloading mweb player API JSON\n",
            "[youtube] KB7JEnfc7Dc: Downloading m3u8 information\n",
            "[info] KB7JEnfc7Dc: Downloading 1 format(s): 136+251\n",
            "[download] Destination: ./🔴Full Stack React and Firebase Tutorial - Build a Facebook Messenger Clone.f136.mp4\n",
            "[download] 100% of  614.40MiB in 00:01:02 at 9.87MiB/s   \n",
            "[download] Destination: ./🔴Full Stack React and Firebase Tutorial - Build a Facebook Messenger Clone.f251.webm\n",
            "[download] 100% of  140.07MiB in 00:00:15 at 8.87MiB/s   \n",
            "[Merger] Merging formats into \"./🔴Full Stack React and Firebase Tutorial - Build a Facebook Messenger Clone.mkv\"\n",
            "Deleting original file ./🔴Full Stack React and Firebase Tutorial - Build a Facebook Messenger Clone.f251.webm (pass -k to keep)\n",
            "Deleting original file ./🔴Full Stack React and Firebase Tutorial - Build a Facebook Messenger Clone.f136.mp4 (pass -k to keep)\n",
            "Download completed!\n"
          ]
        }
      ]
    },
    {
      "cell_type": "code",
      "source": [],
      "metadata": {
        "id": "8avOQuV2wAYn"
      },
      "execution_count": null,
      "outputs": []
    }
  ]
}