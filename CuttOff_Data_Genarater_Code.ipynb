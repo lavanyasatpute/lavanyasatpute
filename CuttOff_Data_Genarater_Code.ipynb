{
  "cells": [
    {
      "cell_type": "markdown",
      "metadata": {
        "id": "view-in-github",
        "colab_type": "text"
      },
      "source": [
        "<a href=\"https://colab.research.google.com/github/lavanyasatpute/lavanyasatpute/blob/main/CuttOff_Data_Genarater_Code.ipynb\" target=\"_parent\"><img src=\"https://colab.research.google.com/assets/colab-badge.svg\" alt=\"Open In Colab\"/></a>"
      ]
    },
    {
      "cell_type": "code",
      "execution_count": null,
      "metadata": {
        "id": "xFbk8-bc7WVD"
      },
      "outputs": [],
      "source": [
        "import requests as rq\n",
        "import pandas as pd\n",
        "from bs4 import BeautifulSoup"
      ]
    },
    {
      "cell_type": "code",
      "execution_count": null,
      "metadata": {
        "id": "F34bATV37cs3"
      },
      "outputs": [],
      "source": [
        "url = \"https://www.amazon.in/s?k=amazon+prime+membership&adgrpid=1320515078795879&hvadid=82532458763367&hvbmt=bb&hvdev=c&hvlocphy=143886&hvnetw=o&hvqmt=b&hvtargid=kwd-82533075230534%3Aloc-90&hydadcr=5653_2377271&msclkid=bd1d8a22cd8a1fb31fc1ec9c375427d2&tag=msndeskstdin-21&ref=pd_sl_6iluw3gs69_b\""
      ]
    },
    {
      "cell_type": "code",
      "source": [],
      "metadata": {
        "id": "7C6NHCdfFJ9J"
      },
      "execution_count": null,
      "outputs": []
    },
    {
      "cell_type": "code",
      "execution_count": null,
      "metadata": {
        "colab": {
          "base_uri": "https://localhost:8080/"
        },
        "id": "T7wn7TMg7m3Q",
        "outputId": "e41531f6-2c93-496b-cb1e-1d98315cf695"
      },
      "outputs": [
        {
          "output_type": "stream",
          "name": "stderr",
          "text": [
            "/usr/local/lib/python3.10/dist-packages/urllib3/connectionpool.py:1100: InsecureRequestWarning: Unverified HTTPS request is being made to host 'www.amazon.in'. Adding certificate verification is strongly advised. See: https://urllib3.readthedocs.io/en/latest/advanced-usage.html#tls-warnings\n",
            "  warnings.warn(\n"
          ]
        }
      ],
      "source": [
        "response = rq.get(url,verify=False)"
      ]
    },
    {
      "cell_type": "code",
      "execution_count": null,
      "metadata": {
        "id": "bLWkrxhv7qdN"
      },
      "outputs": [],
      "source": [
        "soup = BeautifulSoup(response.content , 'html.parser')"
      ]
    },
    {
      "cell_type": "code",
      "source": [
        "soup"
      ],
      "metadata": {
        "colab": {
          "base_uri": "https://localhost:8080/"
        },
        "id": "NKs5LCyR_QrE",
        "outputId": "5a3d48d8-fa1e-419a-9c8a-03925ca12ce0"
      },
      "execution_count": null,
      "outputs": [
        {
          "output_type": "execute_result",
          "data": {
            "text/plain": [
              "<html>\n",
              "<head>\n",
              "<title>503 - Service Unavailable Error</title>\n",
              "</head>\n",
              "<body bgcolor=\"#FFFFFF\" text=\"#000000\">\n",
              "<!--\n",
              "        To discuss automated access to Amazon data please contact api-services-support@amazon.com.\n",
              "        For information about migrating to our APIs refer to our Marketplace APIs at https://developer.amazonservices.in/ref=rm_5_sv, or our Product Advertising API at https://affiliate-program.amazon.in/gp/advertising/api/detail/main.html/ref=rm_5_ac for advertising use cases.\n",
              "-->\n",
              "<center>\n",
              "<a href=\"https://www.amazon.in/ref=cs_503_logo/\">\n",
              "<img alt=\"Amazon.in\" border=\"0\" height=\"45\" src=\"https://images-eu.ssl-images-amazon.com/images/G/31/x-locale/communities/people/logo.gif\" width=\"200\"/></a>\n",
              "<p align=\"center\">\n",
              "<font face=\"Verdana,Arial,Helvetica\">\n",
              "<font color=\"#CC6600\" size=\"+2\"><b>Oops!</b></font><br/>\n",
              "<b>It's rush hour and traffic is piling up on that page. Please try again in a short while.<br/>If you were trying to place an order, it will not have been processed at this time.</b><p>\n",
              "<img alt=\"*\" border=\"0\" height=\"9\" src=\"https://images-eu.ssl-images-amazon.com/images/G/02/x-locale/common/orange-arrow.gif\" width=\"10\"/>\n",
              "<b><a href=\"https://www.amazon.in/ref=cs_503_link/\">Go to the Amazon.in home page to continue shopping</a></b>\n",
              "</p></font>\n",
              "</p></center>\n",
              "</body>\n",
              "</html>"
            ]
          },
          "metadata": {},
          "execution_count": 5
        }
      ]
    },
    {
      "cell_type": "code",
      "execution_count": null,
      "metadata": {
        "id": "jdy6M9XI73vY",
        "colab": {
          "base_uri": "https://localhost:8080/"
        },
        "outputId": "e8be78b9-cc47-46d8-e173-3c2eef92d083"
      },
      "outputs": [
        {
          "output_type": "stream",
          "name": "stdout",
          "text": [
            "Table not found.\n"
          ]
        }
      ],
      "source": [
        "table = soup.find('table', class_='DataGrid')\n",
        "x = []\n",
        "table_data = []\n",
        "\n",
        "if table:  # Check if table is found\n",
        "    for row in table.find_all('tr'):\n",
        "        row_data = []\n",
        "        for cell in row.find_all(['td', 'th']):\n",
        "            row_data.append(cell.get_text(strip=True))\n",
        "        table_data.append(row_data)\n",
        "    for row in table_data:\n",
        "        if len(row) > 1:\n",
        "            x.append(row[1])\n",
        "else:\n",
        "    print(\"Table not found.\")\n",
        "\n",
        "# Now x contains the desired data if the table was found\n"
      ]
    },
    {
      "cell_type": "code",
      "execution_count": null,
      "metadata": {
        "id": "S-VbddlJ8NAj"
      },
      "outputs": [],
      "source": [
        "del x[0]"
      ]
    },
    {
      "cell_type": "code",
      "source": [
        "x[0]"
      ],
      "metadata": {
        "id": "ltMod3FgIqzp"
      },
      "execution_count": null,
      "outputs": []
    },
    {
      "cell_type": "code",
      "source": [
        "x"
      ],
      "metadata": {
        "id": "lnkRlW4AtjhX"
      },
      "execution_count": null,
      "outputs": []
    },
    {
      "cell_type": "code",
      "source": [
        "p = len(x)-2\n",
        "p"
      ],
      "metadata": {
        "id": "dQwAGm-S_3pi"
      },
      "execution_count": null,
      "outputs": []
    },
    {
      "cell_type": "code",
      "source": [
        "# url3 = \"https://fe2022.mahacet.org/StaticPages/frmInstituteSummary?InstituteCode=1002\"\n",
        "# r3 = rq.get(url3,verify=False)\n",
        "# soup3 = BeautifulSoup(r3.content , 'html.parser')\n",
        "# table3 = soup3.find('table',class_='DataGrid')\n",
        "# table_data3 = []\n",
        "# for row3 in table3.find_all('tr'):\n",
        "#     row_data3 = []\n",
        "#     for cell in row3.find_all(['td', 'th']):\n",
        "#         row_data3.append(cell.get_text(strip=True))\n",
        "#     table_data3.append(row_data3)\n",
        "#   # for row1 in table_data1:\n",
        "#   #   x2.append(row1[1])\n",
        "# c = table_data3[0]\n",
        "# del table_data3[0]\n",
        "\n",
        "# df = pd.DataFrame(table_data3 , columns=c)\n",
        "\n"
      ],
      "metadata": {
        "id": "yIzbniso_Xji"
      },
      "execution_count": null,
      "outputs": []
    },
    {
      "cell_type": "code",
      "execution_count": null,
      "metadata": {
        "id": "ZmaT-suK-QIm"
      },
      "outputs": [],
      "source": [
        "\n",
        "for i in range(p):\n",
        "  url2 = \"https://fe2022.mahacet.org/StaticPages/frmInstituteSummary?InstituteCode=\"+x[i]\n",
        "  r = rq.get(url2,verify=False)\n",
        "  soup1 = BeautifulSoup(r.content , 'html.parser')\n",
        "  table1 = soup1.find('table',class_='DataGrid')\n",
        "  table_data1 = []\n",
        "  for row1 in table1.find_all('tr'):\n",
        "      row_data1 = []\n",
        "      for cell in row1.find_all(['td', 'th']):\n",
        "          row_data1.append(cell.get_text(strip=True))\n",
        "      table_data1.append(row_data1)\n",
        "  # for row1 in table_data1:\n",
        "  #   x2.append(row1[1])\n",
        "  c = table_data1[0]\n",
        "  del table_data1[0]\n",
        "\n",
        "  df = pd.DataFrame(table_data1 , columns=c)\n",
        "  file_path = '/content/'+x[i]+'.xlsx'\n",
        "  df.to_excel(file_path, index=False)\n"
      ]
    },
    {
      "cell_type": "code",
      "source": [
        "import os\n",
        "import zipfile\n",
        "\n",
        "# Directory containing the Excel files\n",
        "directory = '/content/'\n",
        "\n",
        "# Get a list of Excel files in the directory\n",
        "excel_files = [os.path.join(directory, file) for file in os.listdir(directory) if file.endswith('.xlsx')]\n",
        "\n",
        "# Specify the name for the zip file\n",
        "zip_file_name = '/content/excel_files.zip'\n",
        "\n",
        "# Create a ZipFile object in write mode ('w')\n",
        "with zipfile.ZipFile(zip_file_name, 'w', zipfile.ZIP_DEFLATED) as zipf:\n",
        "    # Add each Excel file to the zip archive\n",
        "    for excel_file in excel_files:\n",
        "        zipf.write(excel_file, os.path.basename(excel_file))\n",
        "\n"
      ],
      "metadata": {
        "id": "Cl0p9nEjIcUS"
      },
      "execution_count": null,
      "outputs": []
    },
    {
      "cell_type": "code",
      "execution_count": null,
      "metadata": {
        "id": "aF0NpZLZ-i9I"
      },
      "outputs": [],
      "source": [
        "r = rq.get(url2,verify=False)"
      ]
    },
    {
      "cell_type": "code",
      "execution_count": null,
      "metadata": {
        "id": "gFluNszQ-qn7"
      },
      "outputs": [],
      "source": [
        "soup1 = BeautifulSoup(r.content , 'html.parser')"
      ]
    },
    {
      "cell_type": "code",
      "execution_count": null,
      "metadata": {
        "id": "0t5_cbDF-utn"
      },
      "outputs": [],
      "source": [
        "table1 = soup1.find('table',class_='DataGrid')\n",
        "x2=[]\n",
        "table_data1 = []\n",
        "for row1 in table1.find_all('tr'):\n",
        "    row_data1 = []\n",
        "    for cell in row1.find_all(['td', 'th']):\n",
        "        row_data1.append(cell.get_text(strip=True))\n",
        "    table_data1.append(row_data1)\n",
        "for row1 in table_data1:\n",
        "  x2.append(row1[1])\n"
      ]
    },
    {
      "cell_type": "code",
      "execution_count": null,
      "metadata": {
        "id": "40ymhXuv_Q4r"
      },
      "outputs": [],
      "source": [
        "c = table_data1[0]\n",
        "c"
      ]
    },
    {
      "cell_type": "code",
      "execution_count": null,
      "metadata": {
        "id": "Sbk-VfUq_SNA"
      },
      "outputs": [],
      "source": [
        "del table_data1[0]"
      ]
    },
    {
      "cell_type": "code",
      "source": [
        "import pandas as pd"
      ],
      "metadata": {
        "id": "Ev-r5t8x80hc"
      },
      "execution_count": null,
      "outputs": []
    },
    {
      "cell_type": "code",
      "source": [
        "df2 = pd.DataFrame(table_data1 , columns=c)"
      ],
      "metadata": {
        "id": "cm85_FevD4kb"
      },
      "execution_count": null,
      "outputs": []
    },
    {
      "cell_type": "code",
      "source": [
        "#df = pd.DataFrame(table_data1 , columns=c)"
      ],
      "metadata": {
        "id": "DP3HNzGq82Oi"
      },
      "execution_count": null,
      "outputs": []
    },
    {
      "cell_type": "code",
      "source": [
        "#df = pd.concat([df, df2], axis=1)"
      ],
      "metadata": {
        "id": "sVsazQzh9KC-"
      },
      "execution_count": null,
      "outputs": []
    },
    {
      "cell_type": "code",
      "source": [
        "#display(df)"
      ],
      "metadata": {
        "id": "-g5FsgnlDqpj"
      },
      "execution_count": null,
      "outputs": []
    },
    {
      "cell_type": "code",
      "source": [
        "df2"
      ],
      "metadata": {
        "id": "iOSGAVGCEOlr"
      },
      "execution_count": null,
      "outputs": []
    },
    {
      "cell_type": "code",
      "source": [
        "import dash\n",
        "from dash import dcc, html\n",
        "from dash.dependencies import Input, Output\n",
        "import plotly.graph_objs as go\n",
        "import pandas as pd\n",
        "import time\n",
        "\n",
        "# Mock function to fetch stock data\n",
        "def fetch_stock_data():\n",
        "    # Replace this with actual code to fetch stock data from an API\n",
        "    # For demonstration, returning random data\n",
        "    return {'AAPL': {'time': time.time(), 'price': 150.0}, 'GOOG': {'time': time.time(), 'price': 2700.0}}\n",
        "\n",
        "# Initialize Dash app\n",
        "app = dash.Dash(__name__)\n",
        "\n",
        "# Define app layout\n",
        "app.layout = html.Div([\n",
        "    dcc.Graph(id='live-update-graph'),\n",
        "    dcc.Interval(\n",
        "        id='interval-component',\n",
        "        interval=10000,  # Refresh every 10 seconds\n",
        "        n_intervals=0\n",
        "    )\n",
        "])\n",
        "\n",
        "# Callback to update graph data\n",
        "@app.callback(Output('live-update-graph', 'figure'),\n",
        "              [Input('interval-component', 'n_intervals')])\n",
        "def update_graph(n):\n",
        "    stock_data = fetch_stock_data()\n",
        "    timestamps = []\n",
        "    prices = []\n",
        "    for stock, data in stock_data.items():\n",
        "        timestamps.append(data['time'])\n",
        "        prices.append(data['price'])\n",
        "\n",
        "    trace = go.Scatter(x=timestamps, y=prices, mode='lines+markers', name='Stock Prices')\n",
        "    layout = go.Layout(title='Live Stock Prices', xaxis=dict(title='Time'), yaxis=dict(title='Price'))\n",
        "    return {'data': [trace], 'layout': layout}\n",
        "\n",
        "if __name__ == '__main__':\n",
        "    app.run_server(debug=True)\n"
      ],
      "metadata": {
        "id": "sPA7efL4EQL1",
        "colab": {
          "base_uri": "https://localhost:8080/",
          "height": 671
        },
        "outputId": "edb929fa-f807-42b2-b202-2f3ba915ec06"
      },
      "execution_count": null,
      "outputs": [
        {
          "output_type": "display_data",
          "data": {
            "text/plain": [
              "<IPython.core.display.Javascript object>"
            ],
            "application/javascript": [
              "(async (port, path, width, height, cache, element) => {\n",
              "    if (!google.colab.kernel.accessAllowed && !cache) {\n",
              "      return;\n",
              "    }\n",
              "    element.appendChild(document.createTextNode(''));\n",
              "    const url = await google.colab.kernel.proxyPort(port, {cache});\n",
              "    const iframe = document.createElement('iframe');\n",
              "    iframe.src = new URL(path, url).toString();\n",
              "    iframe.height = height;\n",
              "    iframe.width = width;\n",
              "    iframe.style.border = 0;\n",
              "    iframe.allow = [\n",
              "        'accelerometer',\n",
              "        'autoplay',\n",
              "        'camera',\n",
              "        'clipboard-read',\n",
              "        'clipboard-write',\n",
              "        'gyroscope',\n",
              "        'magnetometer',\n",
              "        'microphone',\n",
              "        'serial',\n",
              "        'usb',\n",
              "        'xr-spatial-tracking',\n",
              "    ].join('; ');\n",
              "    element.appendChild(iframe);\n",
              "  })(8050, \"/\", \"100%\", 650, false, window.element)"
            ]
          },
          "metadata": {}
        }
      ]
    },
    {
      "cell_type": "code",
      "source": [
        "!pip install dash"
      ],
      "metadata": {
        "colab": {
          "base_uri": "https://localhost:8080/"
        },
        "id": "mWYP_-FXGlGY",
        "outputId": "9122f373-cf89-496a-e8da-0b992d1da284"
      },
      "execution_count": null,
      "outputs": [
        {
          "output_type": "stream",
          "name": "stdout",
          "text": [
            "Collecting dash\n",
            "  Downloading dash-2.16.0-py3-none-any.whl (10.2 MB)\n",
            "\u001b[2K     \u001b[90m━━━━━━━━━━━━━━━━━━━━━━━━━━━━━━━━━━━━━━━━\u001b[0m \u001b[32m10.2/10.2 MB\u001b[0m \u001b[31m27.3 MB/s\u001b[0m eta \u001b[36m0:00:00\u001b[0m\n",
            "\u001b[?25hRequirement already satisfied: Flask<3.1,>=1.0.4 in /usr/local/lib/python3.10/dist-packages (from dash) (2.2.5)\n",
            "Requirement already satisfied: Werkzeug<3.1 in /usr/local/lib/python3.10/dist-packages (from dash) (3.0.1)\n",
            "Requirement already satisfied: plotly>=5.0.0 in /usr/local/lib/python3.10/dist-packages (from dash) (5.15.0)\n",
            "Collecting dash-html-components==2.0.0 (from dash)\n",
            "  Downloading dash_html_components-2.0.0-py3-none-any.whl (4.1 kB)\n",
            "Collecting dash-core-components==2.0.0 (from dash)\n",
            "  Downloading dash_core_components-2.0.0-py3-none-any.whl (3.8 kB)\n",
            "Collecting dash-table==5.0.0 (from dash)\n",
            "  Downloading dash_table-5.0.0-py3-none-any.whl (3.9 kB)\n",
            "Requirement already satisfied: importlib-metadata in /usr/local/lib/python3.10/dist-packages (from dash) (7.0.1)\n",
            "Requirement already satisfied: typing-extensions>=4.1.1 in /usr/local/lib/python3.10/dist-packages (from dash) (4.10.0)\n",
            "Requirement already satisfied: requests in /usr/local/lib/python3.10/dist-packages (from dash) (2.31.0)\n",
            "Collecting retrying (from dash)\n",
            "  Downloading retrying-1.3.4-py3-none-any.whl (11 kB)\n",
            "Requirement already satisfied: nest-asyncio in /usr/local/lib/python3.10/dist-packages (from dash) (1.6.0)\n",
            "Requirement already satisfied: setuptools in /usr/local/lib/python3.10/dist-packages (from dash) (67.7.2)\n",
            "Requirement already satisfied: Jinja2>=3.0 in /usr/local/lib/python3.10/dist-packages (from Flask<3.1,>=1.0.4->dash) (3.1.3)\n",
            "Requirement already satisfied: itsdangerous>=2.0 in /usr/local/lib/python3.10/dist-packages (from Flask<3.1,>=1.0.4->dash) (2.1.2)\n",
            "Requirement already satisfied: click>=8.0 in /usr/local/lib/python3.10/dist-packages (from Flask<3.1,>=1.0.4->dash) (8.1.7)\n",
            "Requirement already satisfied: tenacity>=6.2.0 in /usr/local/lib/python3.10/dist-packages (from plotly>=5.0.0->dash) (8.2.3)\n",
            "Requirement already satisfied: packaging in /usr/local/lib/python3.10/dist-packages (from plotly>=5.0.0->dash) (23.2)\n",
            "Requirement already satisfied: MarkupSafe>=2.1.1 in /usr/local/lib/python3.10/dist-packages (from Werkzeug<3.1->dash) (2.1.5)\n",
            "Requirement already satisfied: zipp>=0.5 in /usr/local/lib/python3.10/dist-packages (from importlib-metadata->dash) (3.17.0)\n",
            "Requirement already satisfied: charset-normalizer<4,>=2 in /usr/local/lib/python3.10/dist-packages (from requests->dash) (3.3.2)\n",
            "Requirement already satisfied: idna<4,>=2.5 in /usr/local/lib/python3.10/dist-packages (from requests->dash) (3.6)\n",
            "Requirement already satisfied: urllib3<3,>=1.21.1 in /usr/local/lib/python3.10/dist-packages (from requests->dash) (2.0.7)\n",
            "Requirement already satisfied: certifi>=2017.4.17 in /usr/local/lib/python3.10/dist-packages (from requests->dash) (2024.2.2)\n",
            "Requirement already satisfied: six>=1.7.0 in /usr/local/lib/python3.10/dist-packages (from retrying->dash) (1.16.0)\n",
            "Installing collected packages: dash-table, dash-html-components, dash-core-components, retrying, dash\n",
            "Successfully installed dash-2.16.0 dash-core-components-2.0.0 dash-html-components-2.0.0 dash-table-5.0.0 retrying-1.3.4\n"
          ]
        }
      ]
    },
    {
      "cell_type": "code",
      "source": [],
      "metadata": {
        "id": "hd6m87u7GpmP"
      },
      "execution_count": null,
      "outputs": []
    }
  ],
  "metadata": {
    "colab": {
      "provenance": [],
      "authorship_tag": "ABX9TyObw2lQsTMi2OS7JGFmWdNP",
      "include_colab_link": true
    },
    "kernelspec": {
      "display_name": "Python 3",
      "name": "python3"
    },
    "language_info": {
      "name": "python"
    }
  },
  "nbformat": 4,
  "nbformat_minor": 0
}